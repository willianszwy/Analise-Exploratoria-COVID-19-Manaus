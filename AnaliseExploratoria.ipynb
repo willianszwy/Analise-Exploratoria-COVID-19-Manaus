{
  "nbformat": 4,
  "nbformat_minor": 0,
  "metadata": {
    "colab": {
      "name": "AnaliseExploratoria.ipynb",
      "provenance": [],
      "collapsed_sections": []
    },
    "kernelspec": {
      "name": "python3",
      "display_name": "Python 3"
    },
    "language_info": {
      "name": "python"
    }
  },
  "cells": [
    {
      "cell_type": "code",
      "metadata": {
        "id": "9zUvjEQR5QZm"
      },
      "source": [
        "#@title\n",
        "import matplotlib.pylab as plt\n",
        "import numpy as np\n",
        "import pandas as pd\n",
        "%matplotlib inline"
      ],
      "execution_count": 59,
      "outputs": []
    },
    {
      "cell_type": "code",
      "metadata": {
        "colab": {
          "base_uri": "https://localhost:8080/"
        },
        "id": "tRBcKCdr6d6o",
        "outputId": "1a20f856-8efb-4dff-80a0-4068c1515d14"
      },
      "source": [
        "data = pd.read_csv(\"https://covid19.manaus.am.gov.br/wp-content/uploads/Manaus.csv\",sep=';', parse_dates=[\"_dt_notificacao\"],dayfirst=True)"
      ],
      "execution_count": 60,
      "outputs": [
        {
          "output_type": "stream",
          "name": "stderr",
          "text": [
            "/usr/local/lib/python3.7/dist-packages/IPython/core/interactiveshell.py:2718: DtypeWarning: Columns (0,6,7,8,9,10,11,12,13,14,15,16,17,18,22,23,26,27,28,29,30,31) have mixed types.Specify dtype option on import or set low_memory=False.\n",
            "  interactivity=interactivity, compiler=compiler, result=result)\n"
          ]
        }
      ]
    },
    {
      "cell_type": "markdown",
      "metadata": {
        "id": "Au2_XQhovQUP"
      },
      "source": [
        "Remoção dos casos diferentes de \"Confirmado\""
      ]
    },
    {
      "cell_type": "code",
      "metadata": {
        "id": "po0pkpaWvK33"
      },
      "source": [
        "indexParaRemover = data[data['_classificacao'] != 'Confirmado'].index\n",
        "data.drop(indexParaRemover, inplace=True)"
      ],
      "execution_count": 61,
      "outputs": []
    },
    {
      "cell_type": "code",
      "metadata": {
        "id": "ig0lcv_O9ON_",
        "colab": {
          "base_uri": "https://localhost:8080/",
          "height": 377
        },
        "outputId": "6b5634e8-1c19-405c-91e0-2c9bbddb0e6b"
      },
      "source": [
        "data.head()"
      ],
      "execution_count": 62,
      "outputs": [
        {
          "output_type": "execute_result",
          "data": {
            "text/html": [
              "<div>\n",
              "<style scoped>\n",
              "    .dataframe tbody tr th:only-of-type {\n",
              "        vertical-align: middle;\n",
              "    }\n",
              "\n",
              "    .dataframe tbody tr th {\n",
              "        vertical-align: top;\n",
              "    }\n",
              "\n",
              "    .dataframe thead th {\n",
              "        text-align: right;\n",
              "    }\n",
              "</style>\n",
              "<table border=\"1\" class=\"dataframe\">\n",
              "  <thead>\n",
              "    <tr style=\"text-align: right;\">\n",
              "      <th></th>\n",
              "      <th>_dt_evolucao</th>\n",
              "      <th>_dt_notificacao</th>\n",
              "      <th>_dt_sintomas</th>\n",
              "      <th>_classificacao</th>\n",
              "      <th>_conclusao</th>\n",
              "      <th>_origem</th>\n",
              "      <th>_comorb_cardio</th>\n",
              "      <th>_comorb_cromossomica</th>\n",
              "      <th>_comorb_diabetes</th>\n",
              "      <th>_comorb_hemato</th>\n",
              "      <th>_comorb_hepatica</th>\n",
              "      <th>_comorb_imuno</th>\n",
              "      <th>_comorb_neurologica</th>\n",
              "      <th>_comorb_obessidade</th>\n",
              "      <th>_comorb_renal</th>\n",
              "      <th>_comorb_respiratoria</th>\n",
              "      <th>_criterio</th>\n",
              "      <th>_etnia</th>\n",
              "      <th>_evolução</th>\n",
              "      <th>_idade</th>\n",
              "      <th>_faixa etária</th>\n",
              "      <th>_gestante</th>\n",
              "      <th>_profiss_saude</th>\n",
              "      <th>_raca</th>\n",
              "      <th>_se_notificacao</th>\n",
              "      <th>_sexo</th>\n",
              "      <th>_sintoma_dispneia</th>\n",
              "      <th>_sintoma_febre</th>\n",
              "      <th>_sintoma_garganta</th>\n",
              "      <th>_sintoma_tosse</th>\n",
              "      <th>_sintoma_outros</th>\n",
              "      <th>_srag</th>\n",
              "      <th>_teste_anticorpo</th>\n",
              "      <th>_teste_antigeno</th>\n",
              "      <th>_teste_pcr</th>\n",
              "      <th>_bairro</th>\n",
              "      <th>_bairro_mapa</th>\n",
              "      <th>_distrito</th>\n",
              "      <th>_taxa</th>\n",
              "    </tr>\n",
              "  </thead>\n",
              "  <tbody>\n",
              "    <tr>\n",
              "      <th>130</th>\n",
              "      <td>02/03/2020 00:00</td>\n",
              "      <td>2020-02-23</td>\n",
              "      <td>15/02/2020 00:00</td>\n",
              "      <td>Confirmado</td>\n",
              "      <td>Recuperado</td>\n",
              "      <td>SIVEP, GAL</td>\n",
              "      <td>NaN</td>\n",
              "      <td>NaN</td>\n",
              "      <td>NaN</td>\n",
              "      <td>NaN</td>\n",
              "      <td>NaN</td>\n",
              "      <td>NaN</td>\n",
              "      <td>Sim</td>\n",
              "      <td>NaN</td>\n",
              "      <td>NaN</td>\n",
              "      <td>NaN</td>\n",
              "      <td>Laboratorial</td>\n",
              "      <td>NaN</td>\n",
              "      <td>Internado em UTI</td>\n",
              "      <td>12.0</td>\n",
              "      <td>10a - 14a</td>\n",
              "      <td>NaN</td>\n",
              "      <td>NaN</td>\n",
              "      <td>Parda</td>\n",
              "      <td>9.0</td>\n",
              "      <td>F</td>\n",
              "      <td>Sim</td>\n",
              "      <td>Sim</td>\n",
              "      <td>NaN</td>\n",
              "      <td>Sim</td>\n",
              "      <td>Sim</td>\n",
              "      <td>SRAG não especificado</td>\n",
              "      <td>NaN</td>\n",
              "      <td>NaN</td>\n",
              "      <td>1.0</td>\n",
              "      <td>MAUAZINHO</td>\n",
              "      <td>MAUAZINHO</td>\n",
              "      <td>LESTE</td>\n",
              "      <td>0,35040998</td>\n",
              "    </tr>\n",
              "    <tr>\n",
              "      <th>144</th>\n",
              "      <td>01/03/2020 00:00</td>\n",
              "      <td>2020-02-28</td>\n",
              "      <td>26/02/2020 00:00</td>\n",
              "      <td>Confirmado</td>\n",
              "      <td>Recuperado</td>\n",
              "      <td>SIVEP, GAL</td>\n",
              "      <td>NaN</td>\n",
              "      <td>NaN</td>\n",
              "      <td>NaN</td>\n",
              "      <td>NaN</td>\n",
              "      <td>NaN</td>\n",
              "      <td>NaN</td>\n",
              "      <td>NaN</td>\n",
              "      <td>NaN</td>\n",
              "      <td>NaN</td>\n",
              "      <td>NaN</td>\n",
              "      <td>Laboratorial</td>\n",
              "      <td>NaN</td>\n",
              "      <td>Internado</td>\n",
              "      <td>39.0</td>\n",
              "      <td>30a - 39a</td>\n",
              "      <td>NaN</td>\n",
              "      <td>NaN</td>\n",
              "      <td>Parda</td>\n",
              "      <td>9.0</td>\n",
              "      <td>F</td>\n",
              "      <td>Sim</td>\n",
              "      <td>Sim</td>\n",
              "      <td>Sim</td>\n",
              "      <td>Sim</td>\n",
              "      <td>Sim</td>\n",
              "      <td>Vírus Sincicial Respiratório</td>\n",
              "      <td>NaN</td>\n",
              "      <td>NaN</td>\n",
              "      <td>1.0</td>\n",
              "      <td>NOVO ALEIXO</td>\n",
              "      <td>NOVO ALEIXO</td>\n",
              "      <td>NORTE</td>\n",
              "      <td>0,085452557</td>\n",
              "    </tr>\n",
              "    <tr>\n",
              "      <th>153</th>\n",
              "      <td>05/04/2020 00:00</td>\n",
              "      <td>2020-03-02</td>\n",
              "      <td>23/02/2020 00:00</td>\n",
              "      <td>Confirmado</td>\n",
              "      <td>Recuperado</td>\n",
              "      <td>SIVEP, eSUS VE,</td>\n",
              "      <td>NaN</td>\n",
              "      <td>NaN</td>\n",
              "      <td>NaN</td>\n",
              "      <td>NaN</td>\n",
              "      <td>NaN</td>\n",
              "      <td>NaN</td>\n",
              "      <td>NaN</td>\n",
              "      <td>NaN</td>\n",
              "      <td>NaN</td>\n",
              "      <td>NaN</td>\n",
              "      <td>Laboratorial</td>\n",
              "      <td>NaN</td>\n",
              "      <td>Internado em UTI</td>\n",
              "      <td>2.0</td>\n",
              "      <td>1a - 4a</td>\n",
              "      <td>NaN</td>\n",
              "      <td>NaN</td>\n",
              "      <td>Parda</td>\n",
              "      <td>10.0</td>\n",
              "      <td>F</td>\n",
              "      <td>Sim</td>\n",
              "      <td>Sim</td>\n",
              "      <td>NaN</td>\n",
              "      <td>Sim</td>\n",
              "      <td>Sim</td>\n",
              "      <td>SRAG não especificado</td>\n",
              "      <td>1.0</td>\n",
              "      <td>NaN</td>\n",
              "      <td>NaN</td>\n",
              "      <td>PRACA 14 DE JANEIRO</td>\n",
              "      <td>PRAÇA 14 DE JANEIRO</td>\n",
              "      <td>SUL</td>\n",
              "      <td>0,861920359</td>\n",
              "    </tr>\n",
              "    <tr>\n",
              "      <th>158</th>\n",
              "      <td>14/03/2020 00:00</td>\n",
              "      <td>2020-03-02</td>\n",
              "      <td>29/02/2020 00:00</td>\n",
              "      <td>Confirmado</td>\n",
              "      <td>Recuperado</td>\n",
              "      <td>SIVEP, eSUS VE,</td>\n",
              "      <td>Sim</td>\n",
              "      <td>NaN</td>\n",
              "      <td>NaN</td>\n",
              "      <td>NaN</td>\n",
              "      <td>NaN</td>\n",
              "      <td>NaN</td>\n",
              "      <td>NaN</td>\n",
              "      <td>NaN</td>\n",
              "      <td>NaN</td>\n",
              "      <td>Sim</td>\n",
              "      <td>Laboratorial</td>\n",
              "      <td>NaN</td>\n",
              "      <td>Internado em UTI</td>\n",
              "      <td>71.0</td>\n",
              "      <td>70a - 79a</td>\n",
              "      <td>NaN</td>\n",
              "      <td>NaN</td>\n",
              "      <td>Parda</td>\n",
              "      <td>10.0</td>\n",
              "      <td>F</td>\n",
              "      <td>Sim</td>\n",
              "      <td>Sim</td>\n",
              "      <td>NaN</td>\n",
              "      <td>Sim</td>\n",
              "      <td>Sim</td>\n",
              "      <td>SRAG não especificado</td>\n",
              "      <td>2.0</td>\n",
              "      <td>NaN</td>\n",
              "      <td>NaN</td>\n",
              "      <td>FLORES</td>\n",
              "      <td>FLORES</td>\n",
              "      <td>SUL</td>\n",
              "      <td>0,198306463</td>\n",
              "    </tr>\n",
              "    <tr>\n",
              "      <th>196</th>\n",
              "      <td>14/03/2020 00:00</td>\n",
              "      <td>2020-03-11</td>\n",
              "      <td>09/03/2020 00:00</td>\n",
              "      <td>Confirmado</td>\n",
              "      <td>Recuperado</td>\n",
              "      <td>SIVEP, GAL</td>\n",
              "      <td>NaN</td>\n",
              "      <td>NaN</td>\n",
              "      <td>NaN</td>\n",
              "      <td>NaN</td>\n",
              "      <td>NaN</td>\n",
              "      <td>NaN</td>\n",
              "      <td>NaN</td>\n",
              "      <td>NaN</td>\n",
              "      <td>NaN</td>\n",
              "      <td>NaN</td>\n",
              "      <td>Clínico</td>\n",
              "      <td>NaN</td>\n",
              "      <td>Internado</td>\n",
              "      <td>46.0</td>\n",
              "      <td>40a - 49a</td>\n",
              "      <td>NaN</td>\n",
              "      <td>NaN</td>\n",
              "      <td>NaN</td>\n",
              "      <td>11.0</td>\n",
              "      <td>F</td>\n",
              "      <td>Sim</td>\n",
              "      <td>Sim</td>\n",
              "      <td>Sim</td>\n",
              "      <td>Sim</td>\n",
              "      <td>Sim</td>\n",
              "      <td>SRAG não especificado</td>\n",
              "      <td>NaN</td>\n",
              "      <td>NaN</td>\n",
              "      <td>2.0</td>\n",
              "      <td>CIDADE NOVA</td>\n",
              "      <td>CIDADE NOVA</td>\n",
              "      <td>NORTE</td>\n",
              "      <td>0,068152389</td>\n",
              "    </tr>\n",
              "  </tbody>\n",
              "</table>\n",
              "</div>"
            ],
            "text/plain": [
              "         _dt_evolucao _dt_notificacao  ... _distrito        _taxa\n",
              "130  02/03/2020 00:00      2020-02-23  ...     LESTE   0,35040998\n",
              "144  01/03/2020 00:00      2020-02-28  ...     NORTE  0,085452557\n",
              "153  05/04/2020 00:00      2020-03-02  ...       SUL  0,861920359\n",
              "158  14/03/2020 00:00      2020-03-02  ...       SUL  0,198306463\n",
              "196  14/03/2020 00:00      2020-03-11  ...     NORTE  0,068152389\n",
              "\n",
              "[5 rows x 39 columns]"
            ]
          },
          "metadata": {},
          "execution_count": 62
        }
      ]
    },
    {
      "cell_type": "markdown",
      "metadata": {
        "id": "x9PDp0pJvXTI"
      },
      "source": [
        ""
      ]
    },
    {
      "cell_type": "code",
      "metadata": {
        "id": "eIo5eEXzh2oq",
        "colab": {
          "base_uri": "https://localhost:8080/",
          "height": 326
        },
        "outputId": "5b853b86-107e-4612-bf32-57b62568b74b"
      },
      "source": [
        "data.tail()"
      ],
      "execution_count": 63,
      "outputs": [
        {
          "output_type": "execute_result",
          "data": {
            "text/html": [
              "<div>\n",
              "<style scoped>\n",
              "    .dataframe tbody tr th:only-of-type {\n",
              "        vertical-align: middle;\n",
              "    }\n",
              "\n",
              "    .dataframe tbody tr th {\n",
              "        vertical-align: top;\n",
              "    }\n",
              "\n",
              "    .dataframe thead th {\n",
              "        text-align: right;\n",
              "    }\n",
              "</style>\n",
              "<table border=\"1\" class=\"dataframe\">\n",
              "  <thead>\n",
              "    <tr style=\"text-align: right;\">\n",
              "      <th></th>\n",
              "      <th>_dt_evolucao</th>\n",
              "      <th>_dt_notificacao</th>\n",
              "      <th>_dt_sintomas</th>\n",
              "      <th>_classificacao</th>\n",
              "      <th>_conclusao</th>\n",
              "      <th>_origem</th>\n",
              "      <th>_comorb_cardio</th>\n",
              "      <th>_comorb_cromossomica</th>\n",
              "      <th>_comorb_diabetes</th>\n",
              "      <th>_comorb_hemato</th>\n",
              "      <th>_comorb_hepatica</th>\n",
              "      <th>_comorb_imuno</th>\n",
              "      <th>_comorb_neurologica</th>\n",
              "      <th>_comorb_obessidade</th>\n",
              "      <th>_comorb_renal</th>\n",
              "      <th>_comorb_respiratoria</th>\n",
              "      <th>_criterio</th>\n",
              "      <th>_etnia</th>\n",
              "      <th>_evolução</th>\n",
              "      <th>_idade</th>\n",
              "      <th>_faixa etária</th>\n",
              "      <th>_gestante</th>\n",
              "      <th>_profiss_saude</th>\n",
              "      <th>_raca</th>\n",
              "      <th>_se_notificacao</th>\n",
              "      <th>_sexo</th>\n",
              "      <th>_sintoma_dispneia</th>\n",
              "      <th>_sintoma_febre</th>\n",
              "      <th>_sintoma_garganta</th>\n",
              "      <th>_sintoma_tosse</th>\n",
              "      <th>_sintoma_outros</th>\n",
              "      <th>_srag</th>\n",
              "      <th>_teste_anticorpo</th>\n",
              "      <th>_teste_antigeno</th>\n",
              "      <th>_teste_pcr</th>\n",
              "      <th>_bairro</th>\n",
              "      <th>_bairro_mapa</th>\n",
              "      <th>_distrito</th>\n",
              "      <th>_taxa</th>\n",
              "    </tr>\n",
              "  </thead>\n",
              "  <tbody>\n",
              "    <tr>\n",
              "      <th>243970</th>\n",
              "      <td>NaN</td>\n",
              "      <td>2020-03-31</td>\n",
              "      <td>28/03/2020 00:00</td>\n",
              "      <td>Confirmado</td>\n",
              "      <td>NaN</td>\n",
              "      <td>GAL</td>\n",
              "      <td>NaN</td>\n",
              "      <td>NaN</td>\n",
              "      <td>NaN</td>\n",
              "      <td>NaN</td>\n",
              "      <td>NaN</td>\n",
              "      <td>NaN</td>\n",
              "      <td>NaN</td>\n",
              "      <td>NaN</td>\n",
              "      <td>NaN</td>\n",
              "      <td>NaN</td>\n",
              "      <td>NaN</td>\n",
              "      <td>NaN</td>\n",
              "      <td>NaN</td>\n",
              "      <td>44.0</td>\n",
              "      <td>40a - 49a</td>\n",
              "      <td>NaN</td>\n",
              "      <td>NaN</td>\n",
              "      <td>NaN</td>\n",
              "      <td>14.0</td>\n",
              "      <td>F</td>\n",
              "      <td>NaN</td>\n",
              "      <td>NaN</td>\n",
              "      <td>NaN</td>\n",
              "      <td>NaN</td>\n",
              "      <td>NaN</td>\n",
              "      <td>NaN</td>\n",
              "      <td>NaN</td>\n",
              "      <td>NaN</td>\n",
              "      <td>1.0</td>\n",
              "      <td>NaN</td>\n",
              "      <td>NaN</td>\n",
              "      <td>NaN</td>\n",
              "      <td>NaN</td>\n",
              "    </tr>\n",
              "    <tr>\n",
              "      <th>243973</th>\n",
              "      <td>NaN</td>\n",
              "      <td>2020-04-07</td>\n",
              "      <td>30/03/2020 00:00</td>\n",
              "      <td>Confirmado</td>\n",
              "      <td>NaN</td>\n",
              "      <td>GAL</td>\n",
              "      <td>NaN</td>\n",
              "      <td>NaN</td>\n",
              "      <td>NaN</td>\n",
              "      <td>NaN</td>\n",
              "      <td>NaN</td>\n",
              "      <td>NaN</td>\n",
              "      <td>NaN</td>\n",
              "      <td>NaN</td>\n",
              "      <td>NaN</td>\n",
              "      <td>NaN</td>\n",
              "      <td>NaN</td>\n",
              "      <td>NaN</td>\n",
              "      <td>NaN</td>\n",
              "      <td>43.0</td>\n",
              "      <td>40a - 49a</td>\n",
              "      <td>NaN</td>\n",
              "      <td>NaN</td>\n",
              "      <td>NaN</td>\n",
              "      <td>15.0</td>\n",
              "      <td>M</td>\n",
              "      <td>NaN</td>\n",
              "      <td>NaN</td>\n",
              "      <td>NaN</td>\n",
              "      <td>NaN</td>\n",
              "      <td>NaN</td>\n",
              "      <td>NaN</td>\n",
              "      <td>NaN</td>\n",
              "      <td>NaN</td>\n",
              "      <td>1.0</td>\n",
              "      <td>NOVO ISRAEL</td>\n",
              "      <td>NOVO ISRAEL</td>\n",
              "      <td>NORTE</td>\n",
              "      <td>0,490725292</td>\n",
              "    </tr>\n",
              "    <tr>\n",
              "      <th>243977</th>\n",
              "      <td>NaN</td>\n",
              "      <td>2020-04-15</td>\n",
              "      <td>07/04/2020 00:00</td>\n",
              "      <td>Confirmado</td>\n",
              "      <td>NaN</td>\n",
              "      <td>GAL</td>\n",
              "      <td>NaN</td>\n",
              "      <td>NaN</td>\n",
              "      <td>NaN</td>\n",
              "      <td>NaN</td>\n",
              "      <td>NaN</td>\n",
              "      <td>NaN</td>\n",
              "      <td>NaN</td>\n",
              "      <td>NaN</td>\n",
              "      <td>NaN</td>\n",
              "      <td>NaN</td>\n",
              "      <td>NaN</td>\n",
              "      <td>NaN</td>\n",
              "      <td>NaN</td>\n",
              "      <td>56.0</td>\n",
              "      <td>50a - 59a</td>\n",
              "      <td>NaN</td>\n",
              "      <td>NaN</td>\n",
              "      <td>NaN</td>\n",
              "      <td>16.0</td>\n",
              "      <td>F</td>\n",
              "      <td>NaN</td>\n",
              "      <td>NaN</td>\n",
              "      <td>NaN</td>\n",
              "      <td>NaN</td>\n",
              "      <td>NaN</td>\n",
              "      <td>NaN</td>\n",
              "      <td>NaN</td>\n",
              "      <td>NaN</td>\n",
              "      <td>1.0</td>\n",
              "      <td>Nova Esperança</td>\n",
              "      <td>NOVA ESPERANÇA</td>\n",
              "      <td>OESTE</td>\n",
              "      <td>0,466526709</td>\n",
              "    </tr>\n",
              "    <tr>\n",
              "      <th>243979</th>\n",
              "      <td>NaN</td>\n",
              "      <td>2020-04-20</td>\n",
              "      <td>01/04/2020 00:00</td>\n",
              "      <td>Confirmado</td>\n",
              "      <td>NaN</td>\n",
              "      <td>GAL</td>\n",
              "      <td>NaN</td>\n",
              "      <td>NaN</td>\n",
              "      <td>NaN</td>\n",
              "      <td>NaN</td>\n",
              "      <td>NaN</td>\n",
              "      <td>NaN</td>\n",
              "      <td>NaN</td>\n",
              "      <td>NaN</td>\n",
              "      <td>NaN</td>\n",
              "      <td>NaN</td>\n",
              "      <td>NaN</td>\n",
              "      <td>NaN</td>\n",
              "      <td>NaN</td>\n",
              "      <td>50.0</td>\n",
              "      <td>50a - 59a</td>\n",
              "      <td>NaN</td>\n",
              "      <td>NaN</td>\n",
              "      <td>NaN</td>\n",
              "      <td>17.0</td>\n",
              "      <td>F</td>\n",
              "      <td>NaN</td>\n",
              "      <td>NaN</td>\n",
              "      <td>NaN</td>\n",
              "      <td>NaN</td>\n",
              "      <td>NaN</td>\n",
              "      <td>NaN</td>\n",
              "      <td>NaN</td>\n",
              "      <td>NaN</td>\n",
              "      <td>1.0</td>\n",
              "      <td>Adrianópolis</td>\n",
              "      <td>ADRIANÓPOLIS</td>\n",
              "      <td>SUL</td>\n",
              "      <td>0,99960016</td>\n",
              "    </tr>\n",
              "    <tr>\n",
              "      <th>243982</th>\n",
              "      <td>NaN</td>\n",
              "      <td>2020-04-22</td>\n",
              "      <td>13/04/2020 00:00</td>\n",
              "      <td>Confirmado</td>\n",
              "      <td>NaN</td>\n",
              "      <td>GAL</td>\n",
              "      <td>NaN</td>\n",
              "      <td>NaN</td>\n",
              "      <td>NaN</td>\n",
              "      <td>NaN</td>\n",
              "      <td>NaN</td>\n",
              "      <td>NaN</td>\n",
              "      <td>NaN</td>\n",
              "      <td>NaN</td>\n",
              "      <td>NaN</td>\n",
              "      <td>NaN</td>\n",
              "      <td>NaN</td>\n",
              "      <td>NaN</td>\n",
              "      <td>NaN</td>\n",
              "      <td>61.0</td>\n",
              "      <td>60a - 69a</td>\n",
              "      <td>NaN</td>\n",
              "      <td>NaN</td>\n",
              "      <td>NaN</td>\n",
              "      <td>17.0</td>\n",
              "      <td>F</td>\n",
              "      <td>NaN</td>\n",
              "      <td>NaN</td>\n",
              "      <td>NaN</td>\n",
              "      <td>NaN</td>\n",
              "      <td>NaN</td>\n",
              "      <td>NaN</td>\n",
              "      <td>NaN</td>\n",
              "      <td>NaN</td>\n",
              "      <td>1.0</td>\n",
              "      <td>FLORES</td>\n",
              "      <td>FLORES</td>\n",
              "      <td>SUL</td>\n",
              "      <td>0,198306463</td>\n",
              "    </tr>\n",
              "  </tbody>\n",
              "</table>\n",
              "</div>"
            ],
            "text/plain": [
              "       _dt_evolucao _dt_notificacao  ... _distrito        _taxa\n",
              "243970          NaN      2020-03-31  ...       NaN          NaN\n",
              "243973          NaN      2020-04-07  ...     NORTE  0,490725292\n",
              "243977          NaN      2020-04-15  ...     OESTE  0,466526709\n",
              "243979          NaN      2020-04-20  ...       SUL   0,99960016\n",
              "243982          NaN      2020-04-22  ...       SUL  0,198306463\n",
              "\n",
              "[5 rows x 39 columns]"
            ]
          },
          "metadata": {},
          "execution_count": 63
        }
      ]
    },
    {
      "cell_type": "markdown",
      "metadata": {
        "id": "MCmsn9EUmhFP"
      },
      "source": [
        "1. Quantos atributos descrevem cada exemplo? Quais são eles?"
      ]
    },
    {
      "cell_type": "code",
      "metadata": {
        "id": "k07-K0yMmz69",
        "colab": {
          "base_uri": "https://localhost:8080/"
        },
        "outputId": "21038905-9dc5-4dbf-9181-875d2a90ad21"
      },
      "source": [
        "data.shape"
      ],
      "execution_count": 64,
      "outputs": [
        {
          "output_type": "execute_result",
          "data": {
            "text/plain": [
              "(80420, 39)"
            ]
          },
          "metadata": {},
          "execution_count": 64
        }
      ]
    },
    {
      "cell_type": "markdown",
      "metadata": {
        "id": "zkv5VMegoaRl"
      },
      "source": [
        "**Resposta**: Cada exemplo possui 39 atributos, sendo eles informados na célula a seguir:"
      ]
    },
    {
      "cell_type": "code",
      "metadata": {
        "id": "Q7PDBhH8lUhf",
        "colab": {
          "base_uri": "https://localhost:8080/"
        },
        "outputId": "d14802b8-fb06-4f4c-f3a4-da6a5290112f"
      },
      "source": [
        "data.columns"
      ],
      "execution_count": 65,
      "outputs": [
        {
          "output_type": "execute_result",
          "data": {
            "text/plain": [
              "Index(['_dt_evolucao', '_dt_notificacao', '_dt_sintomas', '_classificacao',\n",
              "       '_conclusao', '_origem', '_comorb_cardio', '_comorb_cromossomica',\n",
              "       '_comorb_diabetes', '_comorb_hemato', '_comorb_hepatica',\n",
              "       '_comorb_imuno', '_comorb_neurologica', '_comorb_obessidade',\n",
              "       '_comorb_renal', '_comorb_respiratoria', '_criterio', '_etnia',\n",
              "       '_evolução', '_idade', '_faixa etária', '_gestante', '_profiss_saude',\n",
              "       '_raca', '_se_notificacao', '_sexo', '_sintoma_dispneia',\n",
              "       '_sintoma_febre', '_sintoma_garganta', '_sintoma_tosse',\n",
              "       '_sintoma_outros', '_srag', '_teste_anticorpo', '_teste_antigeno',\n",
              "       '_teste_pcr', '_bairro', '_bairro_mapa', '_distrito', '_taxa'],\n",
              "      dtype='object')"
            ]
          },
          "metadata": {},
          "execution_count": 65
        }
      ]
    },
    {
      "cell_type": "markdown",
      "metadata": {
        "id": "VXydxIa7p1kh"
      },
      "source": [
        "2. Quantos casos confirmados há em Manaus, cumulativamente?"
      ]
    },
    {
      "cell_type": "code",
      "metadata": {
        "id": "wRNMsGFeroxR",
        "colab": {
          "base_uri": "https://localhost:8080/"
        },
        "outputId": "b717f7c9-a0a2-4617-bf09-a00638067774"
      },
      "source": [
        "data['_classificacao'].value_counts()"
      ],
      "execution_count": 66,
      "outputs": [
        {
          "output_type": "execute_result",
          "data": {
            "text/plain": [
              "Confirmado    80420\n",
              "Name: _classificacao, dtype: int64"
            ]
          },
          "metadata": {},
          "execution_count": 66
        }
      ]
    },
    {
      "cell_type": "markdown",
      "metadata": {
        "id": "x28d6eUbsapP"
      },
      "source": [
        "**Resposta:** No dataset constam 80420 casos confirmados, 126563 casos descartados e 37001 casos em análise"
      ]
    },
    {
      "cell_type": "markdown",
      "metadata": {
        "id": "y2sbrVfus0w3"
      },
      "source": [
        "3. A qual período de tempo a base de dados se refere, isto é, qual o registro mais antigo e qual o mais recente? Leve em conta a data de notificação."
      ]
    },
    {
      "cell_type": "code",
      "metadata": {
        "colab": {
          "base_uri": "https://localhost:8080/"
        },
        "id": "zPlyK9t04TKD",
        "outputId": "df5091c6-3108-45d6-a39c-cc84b1ee7db9"
      },
      "source": [
        "data[\"_dt_notificacao\"].min(), data[\"_dt_notificacao\"].max()"
      ],
      "execution_count": 67,
      "outputs": [
        {
          "output_type": "execute_result",
          "data": {
            "text/plain": [
              "(Timestamp('2020-02-16 00:00:00'), Timestamp('2020-12-29 00:00:00'))"
            ]
          },
          "metadata": {},
          "execution_count": 67
        }
      ]
    },
    {
      "cell_type": "markdown",
      "metadata": {
        "id": "1mR3jrdY70p6"
      },
      "source": [
        "**Resposta:** O período de tempo da base de dados é de 01/01/2020 até 29/12/2020."
      ]
    },
    {
      "cell_type": "markdown",
      "metadata": {
        "id": "7huEwH4AMVxi"
      },
      "source": [
        ""
      ]
    },
    {
      "cell_type": "markdown",
      "metadata": {
        "id": "_nnPw5S4Gkqe"
      },
      "source": [
        "# **2.1 Visão Geral dos Casos Confirmados**"
      ]
    },
    {
      "cell_type": "markdown",
      "metadata": {
        "id": "XuTv00yzLieu"
      },
      "source": [
        "### Na etapa abaixo, foi realizada a limpeza dos atributos não desejados para a análise: "
      ]
    },
    {
      "cell_type": "code",
      "metadata": {
        "id": "aAFhMbp2wz8D"
      },
      "source": [
        "\n",
        "data.drop(columns=['_dt_evolucao', '_dt_sintomas', '_origem', '_comorb_cardio',\n",
        "       '_comorb_cromossomica', '_comorb_diabetes', '_comorb_hemato',\n",
        "       '_comorb_hepatica', '_comorb_imuno', '_comorb_neurologica',\n",
        "       '_comorb_obessidade', '_comorb_renal', '_comorb_respiratoria', '_etnia',\n",
        "       '_gestante', '_profiss_saude', '_raca', '_se_notificacao',\n",
        "       '_sintoma_dispneia', '_sintoma_febre', '_sintoma_garganta',\n",
        "       '_sintoma_tosse', '_sintoma_outros', '_srag','_criterio','_evolução','_faixa etária','_bairro_mapa','_distrito','_taxa'],inplace=True)\n"
      ],
      "execution_count": 68,
      "outputs": []
    },
    {
      "cell_type": "code",
      "metadata": {
        "id": "_erwB0W7_OX2"
      },
      "source": [
        "data['_teste_pcr'].fillna(0.0,inplace=True)\n",
        "data['_teste_anticorpo'].fillna(0.0,inplace=True)\n",
        "data['_teste_antigeno'].fillna(0.0,inplace=True)\n",
        "data['_teste_pcr'] = [int(x > 0.0) for x in data._teste_pcr]\n",
        "data['_teste_anticorpo'] = [int(x > 0.0) for x in data._teste_anticorpo]\n",
        "data['_teste_antigeno'] = [int(x > 0.0) for x in data._teste_antigeno]"
      ],
      "execution_count": 69,
      "outputs": []
    },
    {
      "cell_type": "code",
      "metadata": {
        "colab": {
          "base_uri": "https://localhost:8080/",
          "height": 419
        },
        "id": "4GAGgX_N6CaO",
        "outputId": "ed095b17-5d85-4f5a-91e3-91b5a4acfe69"
      },
      "source": [
        "data.isna()"
      ],
      "execution_count": 70,
      "outputs": [
        {
          "output_type": "execute_result",
          "data": {
            "text/html": [
              "<div>\n",
              "<style scoped>\n",
              "    .dataframe tbody tr th:only-of-type {\n",
              "        vertical-align: middle;\n",
              "    }\n",
              "\n",
              "    .dataframe tbody tr th {\n",
              "        vertical-align: top;\n",
              "    }\n",
              "\n",
              "    .dataframe thead th {\n",
              "        text-align: right;\n",
              "    }\n",
              "</style>\n",
              "<table border=\"1\" class=\"dataframe\">\n",
              "  <thead>\n",
              "    <tr style=\"text-align: right;\">\n",
              "      <th></th>\n",
              "      <th>_dt_notificacao</th>\n",
              "      <th>_classificacao</th>\n",
              "      <th>_conclusao</th>\n",
              "      <th>_idade</th>\n",
              "      <th>_sexo</th>\n",
              "      <th>_teste_anticorpo</th>\n",
              "      <th>_teste_antigeno</th>\n",
              "      <th>_teste_pcr</th>\n",
              "      <th>_bairro</th>\n",
              "    </tr>\n",
              "  </thead>\n",
              "  <tbody>\n",
              "    <tr>\n",
              "      <th>130</th>\n",
              "      <td>False</td>\n",
              "      <td>False</td>\n",
              "      <td>False</td>\n",
              "      <td>False</td>\n",
              "      <td>False</td>\n",
              "      <td>False</td>\n",
              "      <td>False</td>\n",
              "      <td>False</td>\n",
              "      <td>False</td>\n",
              "    </tr>\n",
              "    <tr>\n",
              "      <th>144</th>\n",
              "      <td>False</td>\n",
              "      <td>False</td>\n",
              "      <td>False</td>\n",
              "      <td>False</td>\n",
              "      <td>False</td>\n",
              "      <td>False</td>\n",
              "      <td>False</td>\n",
              "      <td>False</td>\n",
              "      <td>False</td>\n",
              "    </tr>\n",
              "    <tr>\n",
              "      <th>153</th>\n",
              "      <td>False</td>\n",
              "      <td>False</td>\n",
              "      <td>False</td>\n",
              "      <td>False</td>\n",
              "      <td>False</td>\n",
              "      <td>False</td>\n",
              "      <td>False</td>\n",
              "      <td>False</td>\n",
              "      <td>False</td>\n",
              "    </tr>\n",
              "    <tr>\n",
              "      <th>158</th>\n",
              "      <td>False</td>\n",
              "      <td>False</td>\n",
              "      <td>False</td>\n",
              "      <td>False</td>\n",
              "      <td>False</td>\n",
              "      <td>False</td>\n",
              "      <td>False</td>\n",
              "      <td>False</td>\n",
              "      <td>False</td>\n",
              "    </tr>\n",
              "    <tr>\n",
              "      <th>196</th>\n",
              "      <td>False</td>\n",
              "      <td>False</td>\n",
              "      <td>False</td>\n",
              "      <td>False</td>\n",
              "      <td>False</td>\n",
              "      <td>False</td>\n",
              "      <td>False</td>\n",
              "      <td>False</td>\n",
              "      <td>False</td>\n",
              "    </tr>\n",
              "    <tr>\n",
              "      <th>...</th>\n",
              "      <td>...</td>\n",
              "      <td>...</td>\n",
              "      <td>...</td>\n",
              "      <td>...</td>\n",
              "      <td>...</td>\n",
              "      <td>...</td>\n",
              "      <td>...</td>\n",
              "      <td>...</td>\n",
              "      <td>...</td>\n",
              "    </tr>\n",
              "    <tr>\n",
              "      <th>243970</th>\n",
              "      <td>False</td>\n",
              "      <td>False</td>\n",
              "      <td>True</td>\n",
              "      <td>False</td>\n",
              "      <td>False</td>\n",
              "      <td>False</td>\n",
              "      <td>False</td>\n",
              "      <td>False</td>\n",
              "      <td>True</td>\n",
              "    </tr>\n",
              "    <tr>\n",
              "      <th>243973</th>\n",
              "      <td>False</td>\n",
              "      <td>False</td>\n",
              "      <td>True</td>\n",
              "      <td>False</td>\n",
              "      <td>False</td>\n",
              "      <td>False</td>\n",
              "      <td>False</td>\n",
              "      <td>False</td>\n",
              "      <td>False</td>\n",
              "    </tr>\n",
              "    <tr>\n",
              "      <th>243977</th>\n",
              "      <td>False</td>\n",
              "      <td>False</td>\n",
              "      <td>True</td>\n",
              "      <td>False</td>\n",
              "      <td>False</td>\n",
              "      <td>False</td>\n",
              "      <td>False</td>\n",
              "      <td>False</td>\n",
              "      <td>False</td>\n",
              "    </tr>\n",
              "    <tr>\n",
              "      <th>243979</th>\n",
              "      <td>False</td>\n",
              "      <td>False</td>\n",
              "      <td>True</td>\n",
              "      <td>False</td>\n",
              "      <td>False</td>\n",
              "      <td>False</td>\n",
              "      <td>False</td>\n",
              "      <td>False</td>\n",
              "      <td>False</td>\n",
              "    </tr>\n",
              "    <tr>\n",
              "      <th>243982</th>\n",
              "      <td>False</td>\n",
              "      <td>False</td>\n",
              "      <td>True</td>\n",
              "      <td>False</td>\n",
              "      <td>False</td>\n",
              "      <td>False</td>\n",
              "      <td>False</td>\n",
              "      <td>False</td>\n",
              "      <td>False</td>\n",
              "    </tr>\n",
              "  </tbody>\n",
              "</table>\n",
              "<p>80420 rows × 9 columns</p>\n",
              "</div>"
            ],
            "text/plain": [
              "        _dt_notificacao  _classificacao  ...  _teste_pcr  _bairro\n",
              "130               False           False  ...       False    False\n",
              "144               False           False  ...       False    False\n",
              "153               False           False  ...       False    False\n",
              "158               False           False  ...       False    False\n",
              "196               False           False  ...       False    False\n",
              "...                 ...             ...  ...         ...      ...\n",
              "243970            False           False  ...       False     True\n",
              "243973            False           False  ...       False    False\n",
              "243977            False           False  ...       False    False\n",
              "243979            False           False  ...       False    False\n",
              "243982            False           False  ...       False    False\n",
              "\n",
              "[80420 rows x 9 columns]"
            ]
          },
          "metadata": {},
          "execution_count": 70
        }
      ]
    },
    {
      "cell_type": "code",
      "metadata": {
        "colab": {
          "base_uri": "https://localhost:8080/",
          "height": 328
        },
        "id": "K3J56SgJ6eUA",
        "outputId": "83c8611f-313e-4df5-8991-c7b38cdbcde2"
      },
      "source": [
        "num_ausentes = data.isna().sum()\n",
        "porc_ausentes = data.isna().sum() * 100 / len(data)\n",
        "df_ausentes = pd.DataFrame({\n",
        "    'Coluna': data.columns,\n",
        "    'Dados ausentes': num_ausentes,\n",
        "    'Porcentagem': porc_ausentes\n",
        "})\n",
        "df_ausentes"
      ],
      "execution_count": 71,
      "outputs": [
        {
          "output_type": "execute_result",
          "data": {
            "text/html": [
              "<div>\n",
              "<style scoped>\n",
              "    .dataframe tbody tr th:only-of-type {\n",
              "        vertical-align: middle;\n",
              "    }\n",
              "\n",
              "    .dataframe tbody tr th {\n",
              "        vertical-align: top;\n",
              "    }\n",
              "\n",
              "    .dataframe thead th {\n",
              "        text-align: right;\n",
              "    }\n",
              "</style>\n",
              "<table border=\"1\" class=\"dataframe\">\n",
              "  <thead>\n",
              "    <tr style=\"text-align: right;\">\n",
              "      <th></th>\n",
              "      <th>Coluna</th>\n",
              "      <th>Dados ausentes</th>\n",
              "      <th>Porcentagem</th>\n",
              "    </tr>\n",
              "  </thead>\n",
              "  <tbody>\n",
              "    <tr>\n",
              "      <th>_dt_notificacao</th>\n",
              "      <td>_dt_notificacao</td>\n",
              "      <td>25</td>\n",
              "      <td>0.031087</td>\n",
              "    </tr>\n",
              "    <tr>\n",
              "      <th>_classificacao</th>\n",
              "      <td>_classificacao</td>\n",
              "      <td>0</td>\n",
              "      <td>0.000000</td>\n",
              "    </tr>\n",
              "    <tr>\n",
              "      <th>_conclusao</th>\n",
              "      <td>_conclusao</td>\n",
              "      <td>37646</td>\n",
              "      <td>46.811738</td>\n",
              "    </tr>\n",
              "    <tr>\n",
              "      <th>_idade</th>\n",
              "      <td>_idade</td>\n",
              "      <td>25</td>\n",
              "      <td>0.031087</td>\n",
              "    </tr>\n",
              "    <tr>\n",
              "      <th>_sexo</th>\n",
              "      <td>_sexo</td>\n",
              "      <td>119</td>\n",
              "      <td>0.147973</td>\n",
              "    </tr>\n",
              "    <tr>\n",
              "      <th>_teste_anticorpo</th>\n",
              "      <td>_teste_anticorpo</td>\n",
              "      <td>0</td>\n",
              "      <td>0.000000</td>\n",
              "    </tr>\n",
              "    <tr>\n",
              "      <th>_teste_antigeno</th>\n",
              "      <td>_teste_antigeno</td>\n",
              "      <td>0</td>\n",
              "      <td>0.000000</td>\n",
              "    </tr>\n",
              "    <tr>\n",
              "      <th>_teste_pcr</th>\n",
              "      <td>_teste_pcr</td>\n",
              "      <td>0</td>\n",
              "      <td>0.000000</td>\n",
              "    </tr>\n",
              "    <tr>\n",
              "      <th>_bairro</th>\n",
              "      <td>_bairro</td>\n",
              "      <td>771</td>\n",
              "      <td>0.958717</td>\n",
              "    </tr>\n",
              "  </tbody>\n",
              "</table>\n",
              "</div>"
            ],
            "text/plain": [
              "                            Coluna  Dados ausentes  Porcentagem\n",
              "_dt_notificacao    _dt_notificacao              25     0.031087\n",
              "_classificacao      _classificacao               0     0.000000\n",
              "_conclusao              _conclusao           37646    46.811738\n",
              "_idade                      _idade              25     0.031087\n",
              "_sexo                        _sexo             119     0.147973\n",
              "_teste_anticorpo  _teste_anticorpo               0     0.000000\n",
              "_teste_antigeno    _teste_antigeno               0     0.000000\n",
              "_teste_pcr              _teste_pcr               0     0.000000\n",
              "_bairro                    _bairro             771     0.958717"
            ]
          },
          "metadata": {},
          "execution_count": 71
        }
      ]
    },
    {
      "cell_type": "code",
      "metadata": {
        "colab": {
          "base_uri": "https://localhost:8080/"
        },
        "id": "5e0Yvh5F7OLS",
        "outputId": "0cf76b31-a421-4f8c-a66c-0ac18ab3b43f"
      },
      "source": [
        "df = data.dropna(axis=0)\n",
        "print(f\"\"\"\\\n",
        "Nº de linhas do DF original: {len(data)}\n",
        "Nº de linhas do DF novo: {len(df)}\n",
        "Nº de linhas com pelo menos 1 valor ausente: {\n",
        "(len(data) - len(df))}\"\"\")"
      ],
      "execution_count": 72,
      "outputs": [
        {
          "output_type": "stream",
          "name": "stdout",
          "text": [
            "Nº de linhas do DF original: 80420\n",
            "Nº de linhas do DF novo: 42685\n",
            "Nº de linhas com pelo menos 1 valor ausente: 37735\n"
          ]
        }
      ]
    },
    {
      "cell_type": "code",
      "metadata": {
        "colab": {
          "base_uri": "https://localhost:8080/"
        },
        "id": "RByzCoH0XmJV",
        "outputId": "548b04ca-cffa-43a9-8233-8078314bbddc"
      },
      "source": [
        "df.columns"
      ],
      "execution_count": 73,
      "outputs": [
        {
          "output_type": "execute_result",
          "data": {
            "text/plain": [
              "Index(['_dt_notificacao', '_classificacao', '_conclusao', '_idade', '_sexo',\n",
              "       '_teste_anticorpo', '_teste_antigeno', '_teste_pcr', '_bairro'],\n",
              "      dtype='object')"
            ]
          },
          "metadata": {},
          "execution_count": 73
        }
      ]
    },
    {
      "cell_type": "markdown",
      "metadata": {
        "id": "MGt5CraP0ThZ"
      },
      "source": [
        "### 1. Quantos exemplos e atributos há na base de dados após a limpeza e organização?"
      ]
    },
    {
      "cell_type": "code",
      "metadata": {
        "colab": {
          "base_uri": "https://localhost:8080/"
        },
        "id": "E84bAXWszFJr",
        "outputId": "e1209649-3f90-427e-9dcf-d8832fe53104"
      },
      "source": [
        "print('Exemplos após Limpeza: ', df.shape[0])\n",
        "print('Atributos após Limpeza: ', data.shape[1])"
      ],
      "execution_count": 74,
      "outputs": [
        {
          "output_type": "stream",
          "name": "stdout",
          "text": [
            "Exemplos após Limpeza:  42685\n",
            "Atributos após Limpeza:  9\n"
          ]
        }
      ]
    },
    {
      "cell_type": "markdown",
      "metadata": {
        "id": "wIsq4Ox_jq5T"
      },
      "source": [
        "**Resposta:** Exemplos após a limpeza e organização: 42685. Atributos após a limpeza e organização: 9."
      ]
    },
    {
      "cell_type": "markdown",
      "metadata": {
        "id": "eTdwVB4cHkmF"
      },
      "source": [
        "### 2. Qual a porcentagem de indivíduos recuperados em relação ao todo?"
      ]
    },
    {
      "cell_type": "code",
      "metadata": {
        "colab": {
          "base_uri": "https://localhost:8080/"
        },
        "id": "-qwZp5u80bTX",
        "outputId": "3e65a155-737f-41e2-bcc6-daf0cec23aef"
      },
      "source": [
        "df['_conclusao'].value_counts(normalize=True)"
      ],
      "execution_count": 75,
      "outputs": [
        {
          "output_type": "execute_result",
          "data": {
            "text/plain": [
              "Recuperado                 0.920394\n",
              "Óbito                      0.078294\n",
              "Óbito por outras causas    0.001312\n",
              "Name: _conclusao, dtype: float64"
            ]
          },
          "metadata": {},
          "execution_count": 75
        }
      ]
    },
    {
      "cell_type": "code",
      "metadata": {
        "colab": {
          "base_uri": "https://localhost:8080/",
          "height": 174
        },
        "id": "NSJ_7NkZJAph",
        "outputId": "d2c27137-aed2-46b4-d269-ddc965e9d8e6"
      },
      "source": [
        "df['_conclusao'].value_counts(normalize=True).plot.barh(figsize=(8, 2))"
      ],
      "execution_count": 76,
      "outputs": [
        {
          "output_type": "execute_result",
          "data": {
            "text/plain": [
              "<matplotlib.axes._subplots.AxesSubplot at 0x7fd99ce17390>"
            ]
          },
          "metadata": {},
          "execution_count": 76
        },
        {
          "output_type": "display_data",
          "data": {
            "image/png": "[encoded data removed]",
            "text/plain": [
              "<Figure size 576x144 with 1 Axes>"
            ]
          },
          "metadata": {
            "needs_background": "light"
          }
        }
      ]
    },
    {
      "cell_type": "markdown",
      "metadata": {
        "id": "JPhAWrvPQdj1"
      },
      "source": [
        "**Resposta:** 92,03% de indivíduos recuperados."
      ]
    },
    {
      "cell_type": "markdown",
      "metadata": {
        "id": "9h6sVLIm5cNl"
      },
      "source": [
        "### 3.Os casos acometeram mais indivíduos do sexo masculino ou feminino?\n"
      ]
    },
    {
      "cell_type": "code",
      "metadata": {
        "colab": {
          "base_uri": "https://localhost:8080/"
        },
        "id": "hJZBN3j34j35",
        "outputId": "13490280-a623-425e-c0b3-e42e942ee706"
      },
      "source": [
        "df['_sexo'].value_counts(normalize=True)"
      ],
      "execution_count": 77,
      "outputs": [
        {
          "output_type": "execute_result",
          "data": {
            "text/plain": [
              "F    0.536535\n",
              "M    0.463465\n",
              "Name: _sexo, dtype: float64"
            ]
          },
          "metadata": {},
          "execution_count": 77
        }
      ]
    },
    {
      "cell_type": "code",
      "metadata": {
        "colab": {
          "base_uri": "https://localhost:8080/",
          "height": 174
        },
        "id": "c6FRpA3XJoTd",
        "outputId": "82590b05-9bc4-4f3c-d6de-aa1658c6987d"
      },
      "source": [
        "df['_sexo'].value_counts(normalize=True).plot.barh(figsize=(8, 2))"
      ],
      "execution_count": 78,
      "outputs": [
        {
          "output_type": "execute_result",
          "data": {
            "text/plain": [
              "<matplotlib.axes._subplots.AxesSubplot at 0x7fd99c5426d0>"
            ]
          },
          "metadata": {},
          "execution_count": 78
        },
        {
          "output_type": "display_data",
          "data": {
            "image/png": "[encoded data removed]",
            "text/plain": [
              "<Figure size 576x144 with 1 Axes>"
            ]
          },
          "metadata": {
            "needs_background": "light"
          }
        }
      ]
    },
    {
      "cell_type": "markdown",
      "metadata": {
        "id": "QB_5GY9GQnQe"
      },
      "source": [
        "**Resposta:** Indivíduos do sexo masculino tiveram mais incidência de Covid-19 com uma porcentagem de 53,65% em relação a 46,34% para mulheres."
      ]
    },
    {
      "cell_type": "markdown",
      "metadata": {
        "id": "OW-dfTux4793"
      },
      "source": [
        "### 4. Qual a média e desvio padrão de idade dos indivíduos que contraíram COVID-19? Qual o indivíduo mais jovem e o mais idoso a contraírem tal enfermidade?"
      ]
    },
    {
      "cell_type": "code",
      "metadata": {
        "colab": {
          "base_uri": "https://localhost:8080/"
        },
        "id": "__2qFrCF4tKX",
        "outputId": "4a2464b9-b422-48d8-b9fd-3cd2824a9dfe"
      },
      "source": [
        "df['_idade'].mean()"
      ],
      "execution_count": 79,
      "outputs": [
        {
          "output_type": "execute_result",
          "data": {
            "text/plain": [
              "43.43167389012534"
            ]
          },
          "metadata": {},
          "execution_count": 79
        }
      ]
    },
    {
      "cell_type": "code",
      "metadata": {
        "colab": {
          "base_uri": "https://localhost:8080/"
        },
        "id": "9MYJpWCy5ALT",
        "outputId": "3c08b72f-8ff1-43d0-d5c1-8265e6b26996"
      },
      "source": [
        "df['_idade'].std()"
      ],
      "execution_count": 80,
      "outputs": [
        {
          "output_type": "execute_result",
          "data": {
            "text/plain": [
              "17.329733144236815"
            ]
          },
          "metadata": {},
          "execution_count": 80
        }
      ]
    },
    {
      "cell_type": "code",
      "metadata": {
        "colab": {
          "base_uri": "https://localhost:8080/"
        },
        "id": "xALh4E9r5IDe",
        "outputId": "96764675-8a23-415a-fe45-1686a04ea6cc"
      },
      "source": [
        "df['_idade'].min()"
      ],
      "execution_count": 81,
      "outputs": [
        {
          "output_type": "execute_result",
          "data": {
            "text/plain": [
              "0.0"
            ]
          },
          "metadata": {},
          "execution_count": 81
        }
      ]
    },
    {
      "cell_type": "code",
      "metadata": {
        "colab": {
          "base_uri": "https://localhost:8080/"
        },
        "id": "kJxPWvdC44XU",
        "outputId": "0bb26e8e-33f6-4569-d0aa-dcba6ca4e1bb"
      },
      "source": [
        "df['_idade'].max()"
      ],
      "execution_count": 82,
      "outputs": [
        {
          "output_type": "execute_result",
          "data": {
            "text/plain": [
              "120.0"
            ]
          },
          "metadata": {},
          "execution_count": 82
        }
      ]
    },
    {
      "cell_type": "markdown",
      "metadata": {
        "id": "aDaYj-qgRGKg"
      },
      "source": [
        "**Resposta:** \n",
        "\n",
        "*   A média das idades é de 43,43 anos.\n",
        "*   O desvio padrão: 17,32.\n",
        "*   O indivíduo mais jovem não completou 1 ano de vida ainda (um bebê).\n",
        "*   Pela base de dados, a pessoa mais velha tem 120 anos. Como esse valor é atípico, visto que a pessoa mais velha do mundo chegou aos 122, é provável que esse valor seja outlier."
      ]
    },
    {
      "cell_type": "markdown",
      "metadata": {
        "id": "BVn7kpvsM3Xn"
      },
      "source": [
        "### 5. Qual o bairro com maior incidência de casos?\n"
      ]
    },
    {
      "cell_type": "code",
      "metadata": {
        "colab": {
          "base_uri": "https://localhost:8080/"
        },
        "id": "zDWSOyu_M54i",
        "outputId": "02ac68e6-586f-447a-b06a-70f39de83d8d"
      },
      "source": [
        "df['_bairro'].value_counts().head(1)\n"
      ],
      "execution_count": 83,
      "outputs": [
        {
          "output_type": "execute_result",
          "data": {
            "text/plain": [
              "SAO JOSE OPERARIO    2350\n",
              "Name: _bairro, dtype: int64"
            ]
          },
          "metadata": {},
          "execution_count": 83
        }
      ]
    },
    {
      "cell_type": "markdown",
      "metadata": {
        "id": "Ln6z5cenSAzX"
      },
      "source": [
        "**Resposta:** São José Operário tem a maior incidência de casos, totalizando 2350."
      ]
    },
    {
      "cell_type": "markdown",
      "metadata": {
        "id": "IiU3GsWzg3_Z"
      },
      "source": [
        "### 7. Quais os tipos de testes efetuados, segundo os dados? Indique os dados de maneira quantitativa e percentual."
      ]
    },
    {
      "cell_type": "markdown",
      "metadata": {
        "id": "y6GlvD3BwTPz"
      },
      "source": [
        "**Resposta:** Analizando as colunas, os tipos de testes efetuados são três, sendo eles o *Teste PCR*, *Teste de Anticorpo* e o *Teste de Antígeno*."
      ]
    },
    {
      "cell_type": "code",
      "metadata": {
        "id": "QIq5i07zHdNk"
      },
      "source": [
        "qt_pcr = df['_teste_pcr'].value_counts()\n",
        "qt_anticorpo = df['_teste_anticorpo'].value_counts()\n",
        "qt_antigeno = df['_teste_antigeno'].value_counts()\n",
        "pc_pcr = df['_teste_pcr'].value_counts(normalize=True)\n",
        "pc_anticorpo = df['_teste_anticorpo'].value_counts(normalize=True)\n",
        "pc_antigeno = df['_teste_antigeno'].value_counts(normalize=True)"
      ],
      "execution_count": 84,
      "outputs": []
    },
    {
      "cell_type": "code",
      "metadata": {
        "colab": {
          "base_uri": "https://localhost:8080/",
          "height": 111
        },
        "id": "qsfLvxgdqrpB",
        "outputId": "97fddd69-44b0-430e-a390-672ff0724246"
      },
      "source": [
        "qt_testes = pd.DataFrame({\n",
        "    'Teste PCR': qt_pcr,\n",
        "    'Teste Anticorpo': qt_anticorpo,\n",
        "    'Teste Antígeno': qt_antigeno\n",
        "})\n",
        "qt_testes = qt_testes.rename(index={0: 'Nº de Negativo', 1: 'Nº de Positivo'})\n",
        "qt_testes"
      ],
      "execution_count": 85,
      "outputs": [
        {
          "output_type": "execute_result",
          "data": {
            "text/html": [
              "<div>\n",
              "<style scoped>\n",
              "    .dataframe tbody tr th:only-of-type {\n",
              "        vertical-align: middle;\n",
              "    }\n",
              "\n",
              "    .dataframe tbody tr th {\n",
              "        vertical-align: top;\n",
              "    }\n",
              "\n",
              "    .dataframe thead th {\n",
              "        text-align: right;\n",
              "    }\n",
              "</style>\n",
              "<table border=\"1\" class=\"dataframe\">\n",
              "  <thead>\n",
              "    <tr style=\"text-align: right;\">\n",
              "      <th></th>\n",
              "      <th>Teste PCR</th>\n",
              "      <th>Teste Anticorpo</th>\n",
              "      <th>Teste Antígeno</th>\n",
              "    </tr>\n",
              "  </thead>\n",
              "  <tbody>\n",
              "    <tr>\n",
              "      <th>Nº de Negativo</th>\n",
              "      <td>30636</td>\n",
              "      <td>15973</td>\n",
              "      <td>38504</td>\n",
              "    </tr>\n",
              "    <tr>\n",
              "      <th>Nº de Positivo</th>\n",
              "      <td>12049</td>\n",
              "      <td>26712</td>\n",
              "      <td>4181</td>\n",
              "    </tr>\n",
              "  </tbody>\n",
              "</table>\n",
              "</div>"
            ],
            "text/plain": [
              "                Teste PCR  Teste Anticorpo  Teste Antígeno\n",
              "Nº de Negativo      30636            15973           38504\n",
              "Nº de Positivo      12049            26712            4181"
            ]
          },
          "metadata": {},
          "execution_count": 85
        }
      ]
    },
    {
      "cell_type": "code",
      "metadata": {
        "colab": {
          "base_uri": "https://localhost:8080/",
          "height": 111
        },
        "id": "CehrR-xstP3H",
        "outputId": "8cd48568-551c-480d-a701-d8864a4c6a57"
      },
      "source": [
        "pc_testes = pd.DataFrame({\n",
        "    'Teste PCR': pc_pcr * 100,\n",
        "    'Teste Anticorpo': pc_anticorpo * 100,\n",
        "    'Teste Antígeno': pc_antigeno * 100\n",
        "})\n",
        "pc_testes = pc_testes.rename(index={0: 'Percentual de Negativo', 1: 'Percentual de Positivo'})\n",
        "pc_testes.round(3)"
      ],
      "execution_count": 86,
      "outputs": [
        {
          "output_type": "execute_result",
          "data": {
            "text/html": [
              "<div>\n",
              "<style scoped>\n",
              "    .dataframe tbody tr th:only-of-type {\n",
              "        vertical-align: middle;\n",
              "    }\n",
              "\n",
              "    .dataframe tbody tr th {\n",
              "        vertical-align: top;\n",
              "    }\n",
              "\n",
              "    .dataframe thead th {\n",
              "        text-align: right;\n",
              "    }\n",
              "</style>\n",
              "<table border=\"1\" class=\"dataframe\">\n",
              "  <thead>\n",
              "    <tr style=\"text-align: right;\">\n",
              "      <th></th>\n",
              "      <th>Teste PCR</th>\n",
              "      <th>Teste Anticorpo</th>\n",
              "      <th>Teste Antígeno</th>\n",
              "    </tr>\n",
              "  </thead>\n",
              "  <tbody>\n",
              "    <tr>\n",
              "      <th>Percentual de Negativo</th>\n",
              "      <td>71.772</td>\n",
              "      <td>37.421</td>\n",
              "      <td>90.205</td>\n",
              "    </tr>\n",
              "    <tr>\n",
              "      <th>Percentual de Positivo</th>\n",
              "      <td>28.228</td>\n",
              "      <td>62.579</td>\n",
              "      <td>9.795</td>\n",
              "    </tr>\n",
              "  </tbody>\n",
              "</table>\n",
              "</div>"
            ],
            "text/plain": [
              "                        Teste PCR  Teste Anticorpo  Teste Antígeno\n",
              "Percentual de Negativo     71.772           37.421          90.205\n",
              "Percentual de Positivo     28.228           62.579           9.795"
            ]
          },
          "metadata": {},
          "execution_count": 86
        }
      ]
    },
    {
      "cell_type": "markdown",
      "metadata": {
        "id": "f6Ddt8EGTuFo"
      },
      "source": [
        ""
      ]
    },
    {
      "cell_type": "markdown",
      "metadata": {
        "id": "aGU5_jnUDbVo"
      },
      "source": [
        "### 8. Qual taxa de letalidade pode ser calculada a partir do conjunto de dados? \n",
        "\n",
        "- Taxa de letalidade do COVID-19 em Manaus: \n"
      ]
    },
    {
      "cell_type": "code",
      "metadata": {
        "colab": {
          "base_uri": "https://localhost:8080/"
        },
        "id": "Tc_A3wxNOkdc",
        "outputId": "e01fa512-37df-4d80-acf1-d68c6f0fd148"
      },
      "source": [
        "letalidade =  df['_conclusao'].value_counts()[1] / len(df) * 100\n",
        "letalidade"
      ],
      "execution_count": 87,
      "outputs": [
        {
          "output_type": "execute_result",
          "data": {
            "text/plain": [
              "7.829448283940494"
            ]
          },
          "metadata": {},
          "execution_count": 87
        }
      ]
    },
    {
      "cell_type": "markdown",
      "metadata": {
        "id": "0W-D6huDToZp"
      },
      "source": [
        "**Resposta:** A taxa de letalidade foi de 7,829%."
      ]
    },
    {
      "cell_type": "markdown",
      "metadata": {
        "id": "kfLKQVf24b1E"
      },
      "source": [
        "### 9. Qual o tipo de correlação, mediante coeficiente de correlação de Pearson, entre a idade e o número de casos? Para responder a esta pergunte, agrupe o número de casos por idade e efetue o cálculo de tal coeficiente. Indique, a partir do resultado, a natureza desta correlação, se é positiva ou negativa, e qual sua intensidade."
      ]
    },
    {
      "cell_type": "code",
      "metadata": {
        "id": "uaXVvEPa4huF"
      },
      "source": [
        "grouped = df.groupby(['_idade']).size()\n",
        "df1 = pd.DataFrame({\"idade\" : grouped.keys(), \"quantidade_casos\" : grouped})\n",
        "df1[\"idade\"] = [int(x) for x in df1[\"idade\"]]\n",
        "df1.index = range(0, 108)"
      ],
      "execution_count": 88,
      "outputs": []
    },
    {
      "cell_type": "code",
      "metadata": {
        "id": "KX6EIgno4k0A",
        "colab": {
          "base_uri": "https://localhost:8080/"
        },
        "outputId": "1a2acd0b-56a9-4570-ddaa-819424782d88"
      },
      "source": [
        "df1['idade'].corr(other = df1['quantidade_casos'], method = \"pearson\")"
      ],
      "execution_count": 89,
      "outputs": [
        {
          "output_type": "execute_result",
          "data": {
            "text/plain": [
              "-0.35546387559571613"
            ]
          },
          "metadata": {},
          "execution_count": 89
        }
      ]
    },
    {
      "cell_type": "code",
      "metadata": {
        "id": "cZt1agfc4pUq",
        "colab": {
          "base_uri": "https://localhost:8080/"
        },
        "outputId": "af037303-aff4-496b-ea1a-d12ce3ddcdf0"
      },
      "source": [
        "df1['quantidade_casos'].corr(other = df1['idade'], method = \"pearson\")"
      ],
      "execution_count": 90,
      "outputs": [
        {
          "output_type": "execute_result",
          "data": {
            "text/plain": [
              "-0.3554638755957161"
            ]
          },
          "metadata": {},
          "execution_count": 90
        }
      ]
    },
    {
      "cell_type": "markdown",
      "metadata": {
        "id": "J0oYTBxR4wYU"
      },
      "source": [
        "**Resposta:** O coeficiente de correlação de Pearson, entre a idade e o número de casos é de -0.35, sugerindo uma correlação negativa e de intensidade fraca.\n"
      ]
    },
    {
      "cell_type": "markdown",
      "metadata": {
        "id": "31HgQ_qneySw"
      },
      "source": [
        "# **2.2 Visualização de Dados**"
      ]
    },
    {
      "cell_type": "markdown",
      "metadata": {
        "id": "3ePO6IPJh8b1"
      },
      "source": [
        "### 1. Construa um histograma denotando a quantidade de casos nos 10 bairros em que houve mais casos registrados. Inclua todos os bairros remanescentes em uma categoria denominada “Outros.” Denote as informações de maneira percentual."
      ]
    },
    {
      "cell_type": "code",
      "metadata": {
        "id": "IKs9llJVgbGz"
      },
      "source": [
        "bairros = df.\n",
        "plt.hist()"
      ],
      "execution_count": null,
      "outputs": []
    },
    {
      "cell_type": "markdown",
      "metadata": {
        "id": "qM2w1TfCiAlq"
      },
      "source": [
        "**Resposta:***"
      ]
    },
    {
      "cell_type": "markdown",
      "metadata": {
        "id": "V-oHAkcFeSDA"
      },
      "source": [
        "### 2. Denote, por sexo, o boxplot da idade dos casos confirmados. Há outliers?"
      ]
    },
    {
      "cell_type": "code",
      "metadata": {
        "colab": {
          "base_uri": "https://localhost:8080/",
          "height": 0
        },
        "id": "KGA6ew8VeK60",
        "outputId": "502d4098-72bc-41c1-88e5-9b6f7a26c904"
      },
      "source": [
        "df.boxplot(by ='_sexo', column =['_idade'], grid = True, figsize=(8,8))"
      ],
      "execution_count": 91,
      "outputs": [
        {
          "output_type": "stream",
          "name": "stderr",
          "text": [
            "/usr/local/lib/python3.7/dist-packages/numpy/core/_asarray.py:83: VisibleDeprecationWarning: Creating an ndarray from ragged nested sequences (which is a list-or-tuple of lists-or-tuples-or ndarrays with different lengths or shapes) is deprecated. If you meant to do this, you must specify 'dtype=object' when creating the ndarray\n",
            "  return array(a, dtype, copy=False, order=order)\n"
          ]
        },
        {
          "output_type": "execute_result",
          "data": {
            "text/plain": [
              "<matplotlib.axes._subplots.AxesSubplot at 0x7fd99d14c810>"
            ]
          },
          "metadata": {},
          "execution_count": 91
        },
        {
          "output_type": "display_data",
          "data": {
            "image/png": "[encoded data removed]",
            "text/plain": [
              "<Figure size 576x576 with 1 Axes>"
            ]
          },
          "metadata": {
            "needs_background": "light"
          }
        }
      ]
    },
    {
      "cell_type": "markdown",
      "metadata": {
        "id": "-P33ebJ0T_wP"
      },
      "source": [
        "**Resposta:** Pela análise do gráfico boxplot, nota-se que existem 2 idades que destacam-se por distanciarem-se das demais para o sexo masculino, aproximadamente na idade de 120 anos. Para o sexo feminino ocorre algo parecido com um exemplo somente para a idade pouco maior que 100 anos. Portanto, há outliers."
      ]
    },
    {
      "cell_type": "markdown",
      "metadata": {
        "id": "WQSOLZrLeyqb"
      },
      "source": [
        "### 3. Denote em um gráfico de barras o número de novos casos por dia, considerando os 10 últimos dias existentes na base de dados."
      ]
    },
    {
      "cell_type": "markdown",
      "metadata": {
        "id": "G2GN62n5e7M3"
      },
      "source": [
        "### 4. Repita o gráfico anterior considerando o número de casos recuperados."
      ]
    },
    {
      "cell_type": "markdown",
      "metadata": {
        "id": "i2-UILsIfAke"
      },
      "source": [
        "### 5. Construa um histograma que denote a quantidade percentual de casos por grupo etário, considerando que cada grupo contempla uma década (0 a 10 anos, 11 a 20 anos, etc.)."
      ]
    },
    {
      "cell_type": "markdown",
      "metadata": {
        "id": "EDPq6XqDfAZ2"
      },
      "source": [
        "### 6. Elabore um gráfico que mostra o cumulativo de casos notificados ao longo do tempo."
      ]
    },
    {
      "cell_type": "markdown",
      "metadata": {
        "id": "m0VLg0xSfAGU"
      },
      "source": [
        "### 7. Faça um gráfico do tipo scatterplot que denote a idade versus o número total de casos registrado para aquela idade. Aproveite o processamento efetuado para o cálculo da correlação. É possível observar alguma tendência?"
      ]
    },
    {
      "cell_type": "markdown",
      "metadata": {
        "id": "WaGm6uFWg1TP"
      },
      "source": [
        "# **2.3 Tipos de tarefas**\n",
        "\n"
      ]
    },
    {
      "cell_type": "markdown",
      "metadata": {
        "id": "g3r3pDBBhDaR"
      },
      "source": [
        "### 1. Uma tarefa de classificação mediante Aprendizado Supervisionado que poderia ser feita com esta base de dados. Qual seria o atributo-alvo? Quais métricas de desempenho poderiam ser aplicadas? Que tipo de validação seria apropriado?"
      ]
    },
    {
      "cell_type": "markdown",
      "metadata": {
        "id": "Apk0AMfDhg3D"
      },
      "source": [
        "**Resposta:** A partir dos dados, uma tafera de classificação possível seria prever se um paciente viria a óbito ou recuperar-se-ia. Seu atributo alvo seria *Conclusão*, ou a coluna da base de dados '_conclusao'. Como a tafera é de classificação, a métrica Acurária junto com a Matriz de Confusão poderiam ser empregadas para o modelo. O método de validação K-fold poderia ser utilizado."
      ]
    },
    {
      "cell_type": "markdown",
      "metadata": {
        "id": "KvusOLBChoqy"
      },
      "source": [
        "### 2. Uma tarefa de regressão mediante Aprendizado Supervisionado que poderia ser feita com esta base de dados. Qual seria o atributo-alvo? Quais atributos preditores a equipe considera relevantes para o cenário?"
      ]
    },
    {
      "cell_type": "markdown",
      "metadata": {
        "id": "A49S-Uzuhx9E"
      },
      "source": [
        "**Resposta:** Uma tafera de regressão seria prever a idade de um paciente a partir dos dados disponibilizados. Os atributos preditores importantes estão listados abaixo.\n",
        "\n",
        "*   Data da evolução\n",
        "*   Data da notificação\n",
        "*   Data dos sintomas\n",
        "*   Comorbidade renal\n",
        "*   Comorbidade obessidade\n",
        "*   Comorbidade neurológica\n",
        "*   Comorbidade imunológica\n",
        "*   Comorbidade hematológica\n",
        "*   Comorbidade cardiológica\n",
        "*   Sexo\n",
        "*   Conclusão\n",
        "*   Evolução\n",
        "*   Raça\n",
        "*   Sintoma dispneia\n",
        "*   Sintoma febre\n",
        "*   Sintoma tosse\n",
        "*   Sintoma outros\n",
        "*   Teste anticorpo\n",
        "*   Teste antígeno\n",
        "*   Teste PCR"
      ]
    }
  ]
}