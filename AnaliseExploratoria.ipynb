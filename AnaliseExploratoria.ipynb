{
  "nbformat": 4,
  "nbformat_minor": 0,
  "metadata": {
    "colab": {
      "name": "AnaliseExploratoria.ipynb",
      "provenance": [],
      "collapsed_sections": []
    },
    "kernelspec": {
      "name": "python3",
      "display_name": "Python 3"
    },
    "language_info": {
      "name": "python"
    }
  },
  "cells": [
    {
      "cell_type": "code",
      "metadata": {
        "id": "9zUvjEQR5QZm"
      },
      "source": [
        "#@title\n",
        "import matplotlib.pylab as plt\n",
        "import numpy as np\n",
        "import pandas as pd\n",
        "%matplotlib inline"
      ],
      "execution_count": null,
      "outputs": []
    },
    {
      "cell_type": "code",
      "metadata": {
        "colab": {
          "base_uri": "https://localhost:8080/"
        },
        "id": "tRBcKCdr6d6o",
        "outputId": "171bac25-c27a-407d-ea3c-3a1ad3d5a155"
      },
      "source": [
        "data = pd.read_csv(\"https://covid19.manaus.am.gov.br/wp-content/uploads/Manaus.csv\",sep=';', parse_dates=[\"_dt_notificacao\"])"
      ],
      "execution_count": null,
      "outputs": [
        {
          "output_type": "stream",
          "name": "stderr",
          "text": [
            "/usr/local/lib/python3.7/dist-packages/IPython/core/interactiveshell.py:2718: DtypeWarning: Columns (0,6,7,8,9,10,11,12,13,14,15,16,17,18,22,23,26,27,28,29,30,31) have mixed types.Specify dtype option on import or set low_memory=False.\n",
            "  interactivity=interactivity, compiler=compiler, result=result)\n"
          ]
        }
      ]
    },
    {
      "cell_type": "markdown",
      "metadata": {
        "id": "Au2_XQhovQUP"
      },
      "source": [
        "Remoção dos casos diferentes de \"Confirmado\""
      ]
    },
    {
      "cell_type": "code",
      "metadata": {
        "id": "po0pkpaWvK33"
      },
      "source": [
        "indexParaRemover = data[data['_classificacao'] != 'Confirmado'].index\n",
        "data.drop(indexParaRemover, inplace=True)"
      ],
      "execution_count": null,
      "outputs": []
    },
    {
      "cell_type": "code",
      "metadata": {
        "id": "ig0lcv_O9ON_"
      },
      "source": [
        "data.head()"
      ],
      "execution_count": null,
      "outputs": []
    },
    {
      "cell_type": "markdown",
      "metadata": {
        "id": "x9PDp0pJvXTI"
      },
      "source": [
        ""
      ]
    },
    {
      "cell_type": "code",
      "metadata": {
        "id": "eIo5eEXzh2oq"
      },
      "source": [
        "data.tail()"
      ],
      "execution_count": null,
      "outputs": []
    },
    {
      "cell_type": "markdown",
      "metadata": {
        "id": "MCmsn9EUmhFP"
      },
      "source": [
        "1. Quantos atributos descrevem cada exemplo? Quais são eles?"
      ]
    },
    {
      "cell_type": "code",
      "metadata": {
        "id": "k07-K0yMmz69"
      },
      "source": [
        "data.shape"
      ],
      "execution_count": null,
      "outputs": []
    },
    {
      "cell_type": "markdown",
      "metadata": {
        "id": "zkv5VMegoaRl"
      },
      "source": [
        "**Resposta**: Cada exemplo possui 39 atributos, sendo eles informados na célula a seguir:"
      ]
    },
    {
      "cell_type": "code",
      "metadata": {
        "id": "Q7PDBhH8lUhf"
      },
      "source": [
        "data.columns"
      ],
      "execution_count": null,
      "outputs": []
    },
    {
      "cell_type": "markdown",
      "metadata": {
        "id": "VXydxIa7p1kh"
      },
      "source": [
        "2. Quantos casos confirmados há em Manaus, cumulativamente?"
      ]
    },
    {
      "cell_type": "code",
      "metadata": {
        "id": "wRNMsGFeroxR"
      },
      "source": [
        "data['_classificacao'].value_counts()"
      ],
      "execution_count": null,
      "outputs": []
    },
    {
      "cell_type": "markdown",
      "metadata": {
        "id": "x28d6eUbsapP"
      },
      "source": [
        "**Resposta:** No dataset constam 80420 casos confirmados, 126563 casos descartados e 37001 casos em análise"
      ]
    },
    {
      "cell_type": "markdown",
      "metadata": {
        "id": "y2sbrVfus0w3"
      },
      "source": [
        "3. A qual período de tempo a base de dados se refere, isto é, qual o registro mais antigo e qual o mais recente? Leve em conta a data de notificação."
      ]
    },
    {
      "cell_type": "code",
      "metadata": {
        "colab": {
          "base_uri": "https://localhost:8080/"
        },
        "id": "zPlyK9t04TKD",
        "outputId": "efd92cf8-d146-4bff-a377-6bd585f816d5"
      },
      "source": [
        "data[\"_dt_notificacao\"].min(), data[\"_dt_notificacao\"].max()"
      ],
      "execution_count": null,
      "outputs": [
        {
          "output_type": "execute_result",
          "data": {
            "text/plain": [
              "(Timestamp('2020-01-01 00:00:00'), Timestamp('2020-12-29 00:00:00'))"
            ]
          },
          "metadata": {},
          "execution_count": 24
        }
      ]
    },
    {
      "cell_type": "markdown",
      "metadata": {
        "id": "1mR3jrdY70p6"
      },
      "source": [
        "**Resposta:** O período de tempo da base de dados é de 01/01/2020 até 29/12/2020."
      ]
    },
    {
      "cell_type": "markdown",
      "metadata": {
        "id": "7huEwH4AMVxi"
      },
      "source": [
        ""
      ]
    },
    {
      "cell_type": "markdown",
      "metadata": {
        "id": "_nnPw5S4Gkqe"
      },
      "source": [
        "# **2.1 Visão Geral dos Casos Confirmados**"
      ]
    },
    {
      "cell_type": "markdown",
      "metadata": {
        "id": "XuTv00yzLieu"
      },
      "source": [
        "### Na etapa abaixo, foi realizada a limpeza dos atributos não desejados para a análise: "
      ]
    },
    {
      "cell_type": "code",
      "metadata": {
        "id": "aAFhMbp2wz8D"
      },
      "source": [
        "\n",
        "data.drop(columns=['_dt_evolucao', '_dt_sintomas', '_origem', '_comorb_cardio',\n",
        "       '_comorb_cromossomica', '_comorb_diabetes', '_comorb_hemato',\n",
        "       '_comorb_hepatica', '_comorb_imuno', '_comorb_neurologica',\n",
        "       '_comorb_obessidade', '_comorb_renal', '_comorb_respiratoria', '_etnia',\n",
        "       '_gestante', '_profiss_saude', '_raca', '_se_notificacao',\n",
        "       '_sintoma_dispneia', '_sintoma_febre', '_sintoma_garganta',\n",
        "       '_sintoma_tosse', '_sintoma_outros', '_srag','_criterio','_evolução','_faixa etária','_bairro_mapa','_distrito','_taxa'],inplace=True)\n"
      ],
      "execution_count": null,
      "outputs": []
    },
    {
      "cell_type": "code",
      "metadata": {
        "id": "_erwB0W7_OX2"
      },
      "source": [
        "data['_teste_pcr'].fillna(0.0,inplace=True)\n",
        "data['_teste_anticorpo'].fillna(0.0,inplace=True)\n",
        "data['_teste_antigeno'].fillna(0.0,inplace=True)\n",
        "data['_teste_pcr'] = [int(x > 0.0) for x in data._teste_pcr]\n",
        "data['_teste_anticorpo'] = [int(x > 0.0) for x in data._teste_anticorpo]\n",
        "data['_teste_antigeno'] = [int(x > 0.0) for x in data._teste_antigeno]"
      ],
      "execution_count": null,
      "outputs": []
    },
    {
      "cell_type": "code",
      "metadata": {
        "colab": {
          "base_uri": "https://localhost:8080/",
          "height": 419
        },
        "id": "4GAGgX_N6CaO",
        "outputId": "658ebfee-1e24-4fec-9740-fc5df8cefa10"
      },
      "source": [
        "data.isna()"
      ],
      "execution_count": null,
      "outputs": [
        {
          "output_type": "execute_result",
          "data": {
            "text/html": [
              "<div>\n",
              "<style scoped>\n",
              "    .dataframe tbody tr th:only-of-type {\n",
              "        vertical-align: middle;\n",
              "    }\n",
              "\n",
              "    .dataframe tbody tr th {\n",
              "        vertical-align: top;\n",
              "    }\n",
              "\n",
              "    .dataframe thead th {\n",
              "        text-align: right;\n",
              "    }\n",
              "</style>\n",
              "<table border=\"1\" class=\"dataframe\">\n",
              "  <thead>\n",
              "    <tr style=\"text-align: right;\">\n",
              "      <th></th>\n",
              "      <th>_dt_notificacao</th>\n",
              "      <th>_classificacao</th>\n",
              "      <th>_conclusao</th>\n",
              "      <th>_idade</th>\n",
              "      <th>_sexo</th>\n",
              "      <th>_teste_anticorpo</th>\n",
              "      <th>_teste_antigeno</th>\n",
              "      <th>_teste_pcr</th>\n",
              "      <th>_bairro</th>\n",
              "    </tr>\n",
              "  </thead>\n",
              "  <tbody>\n",
              "    <tr>\n",
              "      <th>130</th>\n",
              "      <td>False</td>\n",
              "      <td>False</td>\n",
              "      <td>False</td>\n",
              "      <td>False</td>\n",
              "      <td>False</td>\n",
              "      <td>False</td>\n",
              "      <td>False</td>\n",
              "      <td>False</td>\n",
              "      <td>False</td>\n",
              "    </tr>\n",
              "    <tr>\n",
              "      <th>144</th>\n",
              "      <td>False</td>\n",
              "      <td>False</td>\n",
              "      <td>False</td>\n",
              "      <td>False</td>\n",
              "      <td>False</td>\n",
              "      <td>False</td>\n",
              "      <td>False</td>\n",
              "      <td>False</td>\n",
              "      <td>False</td>\n",
              "    </tr>\n",
              "    <tr>\n",
              "      <th>153</th>\n",
              "      <td>False</td>\n",
              "      <td>False</td>\n",
              "      <td>False</td>\n",
              "      <td>False</td>\n",
              "      <td>False</td>\n",
              "      <td>False</td>\n",
              "      <td>False</td>\n",
              "      <td>False</td>\n",
              "      <td>False</td>\n",
              "    </tr>\n",
              "    <tr>\n",
              "      <th>158</th>\n",
              "      <td>False</td>\n",
              "      <td>False</td>\n",
              "      <td>False</td>\n",
              "      <td>False</td>\n",
              "      <td>False</td>\n",
              "      <td>False</td>\n",
              "      <td>False</td>\n",
              "      <td>False</td>\n",
              "      <td>False</td>\n",
              "    </tr>\n",
              "    <tr>\n",
              "      <th>196</th>\n",
              "      <td>False</td>\n",
              "      <td>False</td>\n",
              "      <td>False</td>\n",
              "      <td>False</td>\n",
              "      <td>False</td>\n",
              "      <td>False</td>\n",
              "      <td>False</td>\n",
              "      <td>False</td>\n",
              "      <td>False</td>\n",
              "    </tr>\n",
              "    <tr>\n",
              "      <th>...</th>\n",
              "      <td>...</td>\n",
              "      <td>...</td>\n",
              "      <td>...</td>\n",
              "      <td>...</td>\n",
              "      <td>...</td>\n",
              "      <td>...</td>\n",
              "      <td>...</td>\n",
              "      <td>...</td>\n",
              "      <td>...</td>\n",
              "    </tr>\n",
              "    <tr>\n",
              "      <th>243970</th>\n",
              "      <td>False</td>\n",
              "      <td>False</td>\n",
              "      <td>True</td>\n",
              "      <td>False</td>\n",
              "      <td>False</td>\n",
              "      <td>False</td>\n",
              "      <td>False</td>\n",
              "      <td>False</td>\n",
              "      <td>True</td>\n",
              "    </tr>\n",
              "    <tr>\n",
              "      <th>243973</th>\n",
              "      <td>False</td>\n",
              "      <td>False</td>\n",
              "      <td>True</td>\n",
              "      <td>False</td>\n",
              "      <td>False</td>\n",
              "      <td>False</td>\n",
              "      <td>False</td>\n",
              "      <td>False</td>\n",
              "      <td>False</td>\n",
              "    </tr>\n",
              "    <tr>\n",
              "      <th>243977</th>\n",
              "      <td>False</td>\n",
              "      <td>False</td>\n",
              "      <td>True</td>\n",
              "      <td>False</td>\n",
              "      <td>False</td>\n",
              "      <td>False</td>\n",
              "      <td>False</td>\n",
              "      <td>False</td>\n",
              "      <td>False</td>\n",
              "    </tr>\n",
              "    <tr>\n",
              "      <th>243979</th>\n",
              "      <td>False</td>\n",
              "      <td>False</td>\n",
              "      <td>True</td>\n",
              "      <td>False</td>\n",
              "      <td>False</td>\n",
              "      <td>False</td>\n",
              "      <td>False</td>\n",
              "      <td>False</td>\n",
              "      <td>False</td>\n",
              "    </tr>\n",
              "    <tr>\n",
              "      <th>243982</th>\n",
              "      <td>False</td>\n",
              "      <td>False</td>\n",
              "      <td>True</td>\n",
              "      <td>False</td>\n",
              "      <td>False</td>\n",
              "      <td>False</td>\n",
              "      <td>False</td>\n",
              "      <td>False</td>\n",
              "      <td>False</td>\n",
              "    </tr>\n",
              "  </tbody>\n",
              "</table>\n",
              "<p>80420 rows × 9 columns</p>\n",
              "</div>"
            ],
            "text/plain": [
              "        _dt_notificacao  _classificacao  ...  _teste_pcr  _bairro\n",
              "130               False           False  ...       False    False\n",
              "144               False           False  ...       False    False\n",
              "153               False           False  ...       False    False\n",
              "158               False           False  ...       False    False\n",
              "196               False           False  ...       False    False\n",
              "...                 ...             ...  ...         ...      ...\n",
              "243970            False           False  ...       False     True\n",
              "243973            False           False  ...       False    False\n",
              "243977            False           False  ...       False    False\n",
              "243979            False           False  ...       False    False\n",
              "243982            False           False  ...       False    False\n",
              "\n",
              "[80420 rows x 9 columns]"
            ]
          },
          "metadata": {},
          "execution_count": 141
        }
      ]
    },
    {
      "cell_type": "code",
      "metadata": {
        "colab": {
          "base_uri": "https://localhost:8080/",
          "height": 328
        },
        "id": "K3J56SgJ6eUA",
        "outputId": "7775ce06-1a66-4d22-91ec-9b6b07b4b3e9"
      },
      "source": [
        "num_ausentes = data.isna().sum()\n",
        "porc_ausentes = data.isna().sum() * 100 / len(data)\n",
        "df_ausentes = pd.DataFrame({\n",
        "    'Coluna': data.columns,\n",
        "    'Dados ausentes': num_ausentes,\n",
        "    'Porcentagem': porc_ausentes\n",
        "})\n",
        "df_ausentes"
      ],
      "execution_count": null,
      "outputs": [
        {
          "output_type": "execute_result",
          "data": {
            "text/html": [
              "<div>\n",
              "<style scoped>\n",
              "    .dataframe tbody tr th:only-of-type {\n",
              "        vertical-align: middle;\n",
              "    }\n",
              "\n",
              "    .dataframe tbody tr th {\n",
              "        vertical-align: top;\n",
              "    }\n",
              "\n",
              "    .dataframe thead th {\n",
              "        text-align: right;\n",
              "    }\n",
              "</style>\n",
              "<table border=\"1\" class=\"dataframe\">\n",
              "  <thead>\n",
              "    <tr style=\"text-align: right;\">\n",
              "      <th></th>\n",
              "      <th>Coluna</th>\n",
              "      <th>Dados ausentes</th>\n",
              "      <th>Porcentagem</th>\n",
              "    </tr>\n",
              "  </thead>\n",
              "  <tbody>\n",
              "    <tr>\n",
              "      <th>_dt_notificacao</th>\n",
              "      <td>_dt_notificacao</td>\n",
              "      <td>25</td>\n",
              "      <td>0.031087</td>\n",
              "    </tr>\n",
              "    <tr>\n",
              "      <th>_classificacao</th>\n",
              "      <td>_classificacao</td>\n",
              "      <td>0</td>\n",
              "      <td>0.000000</td>\n",
              "    </tr>\n",
              "    <tr>\n",
              "      <th>_conclusao</th>\n",
              "      <td>_conclusao</td>\n",
              "      <td>37646</td>\n",
              "      <td>46.811738</td>\n",
              "    </tr>\n",
              "    <tr>\n",
              "      <th>_idade</th>\n",
              "      <td>_idade</td>\n",
              "      <td>25</td>\n",
              "      <td>0.031087</td>\n",
              "    </tr>\n",
              "    <tr>\n",
              "      <th>_sexo</th>\n",
              "      <td>_sexo</td>\n",
              "      <td>119</td>\n",
              "      <td>0.147973</td>\n",
              "    </tr>\n",
              "    <tr>\n",
              "      <th>_teste_anticorpo</th>\n",
              "      <td>_teste_anticorpo</td>\n",
              "      <td>0</td>\n",
              "      <td>0.000000</td>\n",
              "    </tr>\n",
              "    <tr>\n",
              "      <th>_teste_antigeno</th>\n",
              "      <td>_teste_antigeno</td>\n",
              "      <td>0</td>\n",
              "      <td>0.000000</td>\n",
              "    </tr>\n",
              "    <tr>\n",
              "      <th>_teste_pcr</th>\n",
              "      <td>_teste_pcr</td>\n",
              "      <td>0</td>\n",
              "      <td>0.000000</td>\n",
              "    </tr>\n",
              "    <tr>\n",
              "      <th>_bairro</th>\n",
              "      <td>_bairro</td>\n",
              "      <td>771</td>\n",
              "      <td>0.958717</td>\n",
              "    </tr>\n",
              "  </tbody>\n",
              "</table>\n",
              "</div>"
            ],
            "text/plain": [
              "                            Coluna  Dados ausentes  Porcentagem\n",
              "_dt_notificacao    _dt_notificacao              25     0.031087\n",
              "_classificacao      _classificacao               0     0.000000\n",
              "_conclusao              _conclusao           37646    46.811738\n",
              "_idade                      _idade              25     0.031087\n",
              "_sexo                        _sexo             119     0.147973\n",
              "_teste_anticorpo  _teste_anticorpo               0     0.000000\n",
              "_teste_antigeno    _teste_antigeno               0     0.000000\n",
              "_teste_pcr              _teste_pcr               0     0.000000\n",
              "_bairro                    _bairro             771     0.958717"
            ]
          },
          "metadata": {},
          "execution_count": 142
        }
      ]
    },
    {
      "cell_type": "code",
      "metadata": {
        "colab": {
          "base_uri": "https://localhost:8080/"
        },
        "id": "5e0Yvh5F7OLS",
        "outputId": "73584222-9832-495a-9944-3d18e346c2f1"
      },
      "source": [
        "df = data.dropna(axis=0)\n",
        "print(f\"\"\"\\\n",
        "Nº de linhas do DF original: {len(data)}\n",
        "Nº de linhas do DF novo: {len(df)}\n",
        "Nº de linhas com pelo menos 1 valor ausente: {\n",
        "(len(data) - len(df))}\"\"\")"
      ],
      "execution_count": null,
      "outputs": [
        {
          "output_type": "stream",
          "name": "stdout",
          "text": [
            "Nº de linhas do DF original: 80420\n",
            "Nº de linhas do DF novo: 42685\n",
            "Nº de linhas com pelo menos 1 valor ausente: 37735\n"
          ]
        }
      ]
    },
    {
      "cell_type": "markdown",
      "metadata": {
        "id": "MGt5CraP0ThZ"
      },
      "source": [
        "### 1. Quantos exemplos e atributos há na base de dados após a limpeza e organização?"
      ]
    },
    {
      "cell_type": "code",
      "metadata": {
        "colab": {
          "base_uri": "https://localhost:8080/"
        },
        "id": "E84bAXWszFJr",
        "outputId": "744c6308-b51e-4efd-e2c2-ac9387d6b8f4"
      },
      "source": [
        "print('Exemplos após Limpeza: ', data.shape[0])\n",
        "print('Atributos após Limpeza: ', data.shape[1])"
      ],
      "execution_count": null,
      "outputs": [
        {
          "output_type": "stream",
          "name": "stdout",
          "text": [
            "Exemplos após Limpeza:  80420\n",
            "Atributos após Limpeza:  9\n"
          ]
        }
      ]
    },
    {
      "cell_type": "markdown",
      "metadata": {
        "id": "eTdwVB4cHkmF"
      },
      "source": [
        "### 2. Qual a porcentagem de indivíduos recuperados em relação ao todo?"
      ]
    },
    {
      "cell_type": "code",
      "metadata": {
        "colab": {
          "base_uri": "https://localhost:8080/"
        },
        "id": "-qwZp5u80bTX",
        "outputId": "d9fe6179-eccb-4ebe-e442-754bb5b2a193"
      },
      "source": [
        "df['_conclusao'].value_counts(normalize=True)"
      ],
      "execution_count": null,
      "outputs": [
        {
          "output_type": "execute_result",
          "data": {
            "text/plain": [
              "Recuperado                 0.920394\n",
              "Óbito                      0.078294\n",
              "Óbito por outras causas    0.001312\n",
              "Name: _conclusao, dtype: float64"
            ]
          },
          "metadata": {},
          "execution_count": 156
        }
      ]
    },
    {
      "cell_type": "code",
      "metadata": {
        "colab": {
          "base_uri": "https://localhost:8080/",
          "height": 174
        },
        "id": "NSJ_7NkZJAph",
        "outputId": "0981f58d-520d-41a5-8413-e70f8bc04711"
      },
      "source": [
        "df['_conclusao'].value_counts(normalize=True).plot.barh(figsize=(8, 2))"
      ],
      "execution_count": null,
      "outputs": [
        {
          "output_type": "execute_result",
          "data": {
            "text/plain": [
              "<matplotlib.axes._subplots.AxesSubplot at 0x7fb5c86b6bd0>"
            ]
          },
          "metadata": {},
          "execution_count": 160
        },
        {
          "output_type": "display_data",
          "data": {
            "image/png": "[encoded data removed]",
            "text/plain": [
              "<Figure size 576x144 with 1 Axes>"
            ]
          },
          "metadata": {
            "needs_background": "light"
          }
        }
      ]
    },
    {
      "cell_type": "markdown",
      "metadata": {
        "id": "9h6sVLIm5cNl"
      },
      "source": [
        "### 3.Os casos acometeram mais indivíduos do sexo masculino ou feminino?\n"
      ]
    },
    {
      "cell_type": "code",
      "metadata": {
        "colab": {
          "base_uri": "https://localhost:8080/"
        },
        "id": "hJZBN3j34j35",
        "outputId": "2346bb3d-7b1f-42df-d330-eeb2fe7be829"
      },
      "source": [
        "df['_sexo'].value_counts(normalize=True)"
      ],
      "execution_count": null,
      "outputs": [
        {
          "output_type": "execute_result",
          "data": {
            "text/plain": [
              "F    0.536535\n",
              "M    0.463465\n",
              "Name: _sexo, dtype: float64"
            ]
          },
          "metadata": {},
          "execution_count": 145
        }
      ]
    },
    {
      "cell_type": "code",
      "metadata": {
        "colab": {
          "base_uri": "https://localhost:8080/",
          "height": 174
        },
        "id": "c6FRpA3XJoTd",
        "outputId": "4d22fead-96aa-444c-beeb-712158ad43b4"
      },
      "source": [
        "df['_sexo'].value_counts(normalize=True).plot.barh(figsize=(8, 2))"
      ],
      "execution_count": null,
      "outputs": [
        {
          "output_type": "execute_result",
          "data": {
            "text/plain": [
              "<matplotlib.axes._subplots.AxesSubplot at 0x7fb5c873ff90>"
            ]
          },
          "metadata": {},
          "execution_count": 161
        },
        {
          "output_type": "display_data",
          "data": {
            "image/png": "[encoded data removed]",
            "text/plain": [
              "<Figure size 576x144 with 1 Axes>"
            ]
          },
          "metadata": {
            "needs_background": "light"
          }
        }
      ]
    },
    {
      "cell_type": "markdown",
      "metadata": {
        "id": "OW-dfTux4793"
      },
      "source": [
        "### 4. Qual a média e desvio padrão de idade dos indivíduos que contraíram COVID-19? Qual o indivíduo mais jovem e o mais idoso a contraírem tal enfermidade?"
      ]
    },
    {
      "cell_type": "code",
      "metadata": {
        "colab": {
          "base_uri": "https://localhost:8080/"
        },
        "id": "__2qFrCF4tKX",
        "outputId": "af4b4522-a06b-4e5f-b70f-fdfe73373125"
      },
      "source": [
        "print ('A média das idades é :', df['_idade'].mean(), 'anos.')"
      ],
      "execution_count": null,
      "outputs": [
        {
          "output_type": "stream",
          "name": "stdout",
          "text": [
            "A média das idades é : 43.43167389012534 anos.\n"
          ]
        }
      ]
    },
    {
      "cell_type": "code",
      "metadata": {
        "colab": {
          "base_uri": "https://localhost:8080/"
        },
        "id": "9MYJpWCy5ALT",
        "outputId": "0c567581-c387-4558-f66e-6df7d00abe19"
      },
      "source": [
        "print ('O desvio padrão das idades é ', df['_idade'].std(), '.' )"
      ],
      "execution_count": null,
      "outputs": [
        {
          "output_type": "stream",
          "name": "stdout",
          "text": [
            "O desvio padrão das idades é  17.329733144236815 .\n"
          ]
        }
      ]
    },
    {
      "cell_type": "code",
      "metadata": {
        "colab": {
          "base_uri": "https://localhost:8080/"
        },
        "id": "xALh4E9r5IDe",
        "outputId": "3a1d9686-e569-4ca6-ef34-77d4565556c5"
      },
      "source": [
        "print ('O indivíduo mais jovem possui ' , df['_idade'].min(), 'anos.')"
      ],
      "execution_count": null,
      "outputs": [
        {
          "output_type": "stream",
          "name": "stdout",
          "text": [
            "O indivíduo mais jovem possui  0.0 anos.\n"
          ]
        }
      ]
    },
    {
      "cell_type": "code",
      "metadata": {
        "colab": {
          "base_uri": "https://localhost:8080/"
        },
        "id": "kJxPWvdC44XU",
        "outputId": "f2e93b75-e87b-4320-ec53-ba4c80f76b76"
      },
      "source": [
        "print ('O indivíduo mais velho possui', df['_idade'].max(), 'anos.')"
      ],
      "execution_count": null,
      "outputs": [
        {
          "output_type": "stream",
          "name": "stdout",
          "text": [
            "O indivíduo mais velho possui 120.0 anos.\n"
          ]
        }
      ]
    },
    {
      "cell_type": "markdown",
      "metadata": {
        "id": "BVn7kpvsM3Xn"
      },
      "source": [
        "### 5. Qual o bairro com maior incidência de casos?\n"
      ]
    },
    {
      "cell_type": "code",
      "metadata": {
        "colab": {
          "base_uri": "https://localhost:8080/"
        },
        "id": "zDWSOyu_M54i",
        "outputId": "bb70b59a-25f7-47bc-f2a3-7a0fe4c03df3"
      },
      "source": [
        "df['_bairro'].value_counts()\n"
      ],
      "execution_count": null,
      "outputs": [
        {
          "output_type": "execute_result",
          "data": {
            "text/plain": [
              "SAO JOSE OPERARIO    2350\n",
              "JORGE TEIXEIRA       1986\n",
              "CIDADE NOVA          1819\n",
              "COMPENSA             1817\n",
              "ALVORADA             1814\n",
              "                     ... \n",
              "SAO RAIMNDO             1\n",
              "COLSANTO ANTONIO        1\n",
              "GALILEIA ll             1\n",
              "PRES. VARGAS            1\n",
              "TAUMA                   1\n",
              "Name: _bairro, Length: 1176, dtype: int64"
            ]
          },
          "metadata": {},
          "execution_count": 178
        }
      ]
    }
  ]
}