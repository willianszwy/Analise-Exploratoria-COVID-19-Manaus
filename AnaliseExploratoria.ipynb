{
  "nbformat": 4,
  "nbformat_minor": 0,
  "metadata": {
    "colab": {
      "name": "AnaliseExploratoria.ipynb",
      "provenance": [],
      "collapsed_sections": []
    },
    "kernelspec": {
      "name": "python3",
      "display_name": "Python 3"
    },
    "language_info": {
      "name": "python"
    }
  },
  "cells": [
    {
      "cell_type": "code",
      "metadata": {
        "id": "9zUvjEQR5QZm"
      },
      "source": [
        "#@title\n",
        "import matplotlib.pylab as plt\n",
        "import numpy as np\n",
        "import pandas as pd\n",
        "%matplotlib inline"
      ],
      "execution_count": 22,
      "outputs": []
    },
    {
      "cell_type": "code",
      "metadata": {
        "colab": {
          "base_uri": "https://localhost:8080/"
        },
        "id": "tRBcKCdr6d6o",
        "outputId": "171bac25-c27a-407d-ea3c-3a1ad3d5a155"
      },
      "source": [
        "data = pd.read_csv(\"https://covid19.manaus.am.gov.br/wp-content/uploads/Manaus.csv\",sep=';', parse_dates=[\"_dt_notificacao\"])"
      ],
      "execution_count": 23,
      "outputs": [
        {
          "output_type": "stream",
          "name": "stderr",
          "text": [
            "/usr/local/lib/python3.7/dist-packages/IPython/core/interactiveshell.py:2718: DtypeWarning: Columns (0,6,7,8,9,10,11,12,13,14,15,16,17,18,22,23,26,27,28,29,30,31) have mixed types.Specify dtype option on import or set low_memory=False.\n",
            "  interactivity=interactivity, compiler=compiler, result=result)\n"
          ]
        }
      ]
    },
    {
      "cell_type": "code",
      "metadata": {
        "id": "ig0lcv_O9ON_"
      },
      "source": [
        "data.head()"
      ],
      "execution_count": null,
      "outputs": []
    },
    {
      "cell_type": "code",
      "metadata": {
        "id": "eIo5eEXzh2oq"
      },
      "source": [
        "data.tail()"
      ],
      "execution_count": null,
      "outputs": []
    },
    {
      "cell_type": "markdown",
      "metadata": {
        "id": "MCmsn9EUmhFP"
      },
      "source": [
        "1. Quantos atributos descrevem cada exemplo? Quais são eles?"
      ]
    },
    {
      "cell_type": "code",
      "metadata": {
        "id": "k07-K0yMmz69"
      },
      "source": [
        "data.shape"
      ],
      "execution_count": null,
      "outputs": []
    },
    {
      "cell_type": "markdown",
      "metadata": {
        "id": "zkv5VMegoaRl"
      },
      "source": [
        "**Resposta**: Cada exemplo possui 39 atributos, sendo eles informados na célula a seguir:"
      ]
    },
    {
      "cell_type": "code",
      "metadata": {
        "id": "Q7PDBhH8lUhf"
      },
      "source": [
        "data.columns"
      ],
      "execution_count": null,
      "outputs": []
    },
    {
      "cell_type": "markdown",
      "metadata": {
        "id": "VXydxIa7p1kh"
      },
      "source": [
        "2. Quantos casos confirmados há em Manaus, cumulativamente?"
      ]
    },
    {
      "cell_type": "code",
      "metadata": {
        "id": "wRNMsGFeroxR"
      },
      "source": [
        "data['_classificacao'].value_counts()"
      ],
      "execution_count": null,
      "outputs": []
    },
    {
      "cell_type": "markdown",
      "metadata": {
        "id": "x28d6eUbsapP"
      },
      "source": [
        "**Resposta:** No dataset constam 80420 casos confirmados, 126563 casos descartados e 37001 casos em análise"
      ]
    },
    {
      "cell_type": "markdown",
      "metadata": {
        "id": "y2sbrVfus0w3"
      },
      "source": [
        "3. A qual período de tempo a base de dados se refere, isto é, qual o registro mais antigo e qual o mais recente? Leve em conta a data de notificação."
      ]
    },
    {
      "cell_type": "code",
      "metadata": {
        "colab": {
          "base_uri": "https://localhost:8080/"
        },
        "id": "zPlyK9t04TKD",
        "outputId": "efd92cf8-d146-4bff-a377-6bd585f816d5"
      },
      "source": [
        "data[\"_dt_notificacao\"].min(), data[\"_dt_notificacao\"].max()"
      ],
      "execution_count": 24,
      "outputs": [
        {
          "output_type": "execute_result",
          "data": {
            "text/plain": [
              "(Timestamp('2020-01-01 00:00:00'), Timestamp('2020-12-29 00:00:00'))"
            ]
          },
          "metadata": {},
          "execution_count": 24
        }
      ]
    },
    {
      "cell_type": "markdown",
      "metadata": {
        "id": "1mR3jrdY70p6"
      },
      "source": [
        "**Resposta:** O período de tempo da base de dados é de 01/01/2020 até 29/12/2020."
      ]
    }
  ]
}